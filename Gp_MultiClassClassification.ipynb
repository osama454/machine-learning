{
  "nbformat": 4,
  "nbformat_minor": 0,
  "metadata": {
    "colab": {
      "name": "Gp_MultiClassClassification.ipynb",
      "provenance": [],
      "collapsed_sections": []
    },
    "kernelspec": {
      "name": "python3",
      "display_name": "Python 3"
    }
  },
  "cells": [
    {
      "cell_type": "markdown",
      "metadata": {
        "id": "I7W7sf55B8Z1"
      },
      "source": [
        "## Libraries"
      ]
    },
    {
      "cell_type": "code",
      "metadata": {
        "id": "4xTIRXo5BfyT"
      },
      "source": [
        "import pandas as pd\r\n",
        "pd.set_option('display.max_columns', 500)\r\n",
        "pd.set_option('display.max_rows', 300)\r\n",
        "pd.set_option('display.width', 100000)\r\n",
        "\r\n",
        "import numpy as np\r\n",
        "np.set_printoptions(threshold=np.inf) \r\n",
        "np.core.arrayprint._line_width=np.inf\r\n",
        "\r\n",
        "import os\r\n",
        "import shutil\r\n",
        "import glob\r\n",
        "\r\n",
        "import tensorflow as tf\r\n",
        "from tensorflow.keras.models import Model\r\n",
        "from tensorflow.keras.layers import ( Dense, Dropout,Input)\r\n",
        "from tensorflow.keras.models import load_model\r\n",
        "\r\n",
        "import sklearn  \r\n",
        "from sklearn.ensemble.gradient_boosting import train_test_split\r\n",
        "from sklearn.impute import SimpleImputer\r\n",
        "from sklearn.feature_selection import SelectKBest,f_classif,chi2\r\n",
        "from sklearn.preprocessing import StandardScaler\r\n",
        "\r\n",
        "import pickle\r\n",
        "\r\n",
        "import warnings\r\n",
        "warnings.filterwarnings(\"ignore\")"
      ],
      "execution_count": 274,
      "outputs": []
    },
    {
      "cell_type": "markdown",
      "metadata": {
        "id": "13y8E7OfCGKt"
      },
      "source": [
        "## Load Data"
      ]
    },
    {
      "cell_type": "code",
      "metadata": {
        "id": "sgmLmmb3ChOk"
      },
      "source": [
        "features=pd.read_csv(\"/content/drive/MyDrive/ML/01 Data set/NUSW-NB15_features.csv\",engine=\"python\")"
      ],
      "execution_count": 195,
      "outputs": []
    },
    {
      "cell_type": "code",
      "metadata": {
        "id": "4lwiTuqiG5Dk"
      },
      "source": [
        "cols=features[\"Name\"]"
      ],
      "execution_count": 196,
      "outputs": []
    },
    {
      "cell_type": "code",
      "metadata": {
        "id": "mg6zkcm0DgFz"
      },
      "source": [
        "def RemoveSpace(a):\r\n",
        "  if a==np.nan  or isinstance(a,int) or isinstance(a,float):\r\n",
        "    return a\r\n",
        "  if a==\"\":\r\n",
        "    return np.nan\r\n",
        "  b=\"\"\r\n",
        "  for i in a:\r\n",
        "    if i==\" \" or i==\"  \" or i==\"-\":\r\n",
        "      continue\r\n",
        "    b+=i \r\n",
        "  if b==\"\":\r\n",
        "    return np.nan\r\n",
        "  return b"
      ],
      "execution_count": 197,
      "outputs": []
    },
    {
      "cell_type": "code",
      "metadata": {
        "id": "Xz-fV85TEzgK"
      },
      "source": [
        "cols=cols.map(RemoveSpace)"
      ],
      "execution_count": 198,
      "outputs": []
    },
    {
      "cell_type": "code",
      "metadata": {
        "id": "IrZGPL4KGD2J"
      },
      "source": [
        "data1=pd.read_csv('/content/drive/My Drive/ML/01 Data set/UNSW-NB15_1.csv',names=cols)\r\n",
        "data2=pd.read_csv('/content/drive/My Drive/ML/01 Data set/UNSW-NB15_2.csv',names=cols)\r\n",
        "data3=pd.read_csv('/content/drive/My Drive/ML/01 Data set/UNSW-NB15_3.csv',names=cols)\r\n",
        "data4=pd.read_csv('/content/drive/My Drive/ML/01 Data set/UNSW-NB15_4.csv',names=cols)\r\n",
        "Data=pd.concat([data1,data2,data3,data4],ignore_index=True)\r\n",
        "del data1,data2,data3,data4"
      ],
      "execution_count": 199,
      "outputs": []
    },
    {
      "cell_type": "code",
      "metadata": {
        "id": "M8rydJexJ2N9"
      },
      "source": [
        "num=Data._get_numeric_data().columns #numeric data columns names\r\n",
        "cat=Data.select_dtypes(include=['object']).columns#categorical data columns names"
      ],
      "execution_count": 200,
      "outputs": []
    },
    {
      "cell_type": "code",
      "metadata": {
        "id": "gxXtYy6cG-LG"
      },
      "source": [
        "for col in cat:\r\n",
        "  Data[col]=Data[col].map(RemoveSpace)"
      ],
      "execution_count": 201,
      "outputs": []
    },
    {
      "cell_type": "markdown",
      "metadata": {
        "id": "1cSb3i78OQXZ"
      },
      "source": [
        "## Correct Dtypes and Remove duplicated"
      ]
    },
    {
      "cell_type": "code",
      "metadata": {
        "colab": {
          "base_uri": "https://localhost:8080/"
        },
        "id": "UCnRnuEHIEQu",
        "outputId": "a4c480e3-c455-4577-ad71-f76d01d33419"
      },
      "source": [
        "print(Data.shape)\r\n",
        "Data.drop_duplicates(keep=False,inplace=True) \r\n",
        "print(Data.shape)\r\n"
      ],
      "execution_count": 203,
      "outputs": [
        {
          "output_type": "stream",
          "text": [
            "(2540047, 49)\n",
            "(1971209, 49)\n"
          ],
          "name": "stdout"
        }
      ]
    },
    {
      "cell_type": "code",
      "metadata": {
        "colab": {
          "base_uri": "https://localhost:8080/"
        },
        "id": "QujPEAcEOd4O",
        "outputId": "f67d63f4-05cf-4dd3-a258-366222231239"
      },
      "source": [
        "StrList=[j for i,j,k in zip(Data.dtypes,features.iloc[:,1],features.iloc[:,2])\r\n",
        "if (i==('object')) and (k==('integer' or 'Float'))]\r\n",
        "print(StrList)"
      ],
      "execution_count": 204,
      "outputs": [
        {
          "output_type": "stream",
          "text": [
            "['sport', 'dsport', 'ct_ftp_cmd']\n"
          ],
          "name": "stdout"
        }
      ]
    },
    {
      "cell_type": "code",
      "metadata": {
        "id": "IGV4phCAL82q"
      },
      "source": [
        "def StrToNum(a):      \r\n",
        "  try:\r\n",
        "    return int(a,0)\r\n",
        "  except:\r\n",
        "    try:\r\n",
        "      return float(a)\r\n",
        "    except:\r\n",
        "      return a"
      ],
      "execution_count": 205,
      "outputs": []
    },
    {
      "cell_type": "code",
      "metadata": {
        "colab": {
          "base_uri": "https://localhost:8080/"
        },
        "id": "OG0ABULLO3Rg",
        "outputId": "a4816024-1b13-47ba-ce83-110d81bb8218"
      },
      "source": [
        "StrDict={col:[[i,j] for i,j in enumerate(Data[col]) if type(j)==str]\r\n",
        "\t for col in StrList}\r\n",
        "for col in StrList:\r\n",
        "  print(len(StrDict[col]))"
      ],
      "execution_count": 206,
      "outputs": [
        {
          "output_type": "stream",
          "text": [
            "52415\n",
            "1111314\n",
            "31243\n"
          ],
          "name": "stdout"
        }
      ]
    },
    {
      "cell_type": "code",
      "metadata": {
        "id": "D3OyF9-rPURU"
      },
      "source": [
        "\r\n",
        "for col in StrList:\r\n",
        "  Data[col]=Data[col].map(StrToNum)\r\n",
        "  Data[col]=Data[col].map(RemoveSpace)"
      ],
      "execution_count": 207,
      "outputs": []
    },
    {
      "cell_type": "code",
      "metadata": {
        "colab": {
          "base_uri": "https://localhost:8080/"
        },
        "id": "KQtS5ObHQkD2",
        "outputId": "a0e7b55c-0635-4b71-ce8e-9be4596f9fc9"
      },
      "source": [
        "StrDict={col:[[i,j] for i,j in enumerate(Data[col]) if type(j)==str] for col in StrList}\r\n",
        "for col in StrList:\r\n",
        "  print(len(StrDict[col]))"
      ],
      "execution_count": 208,
      "outputs": [
        {
          "output_type": "stream",
          "text": [
            "0\n",
            "0\n",
            "0\n"
          ],
          "name": "stdout"
        }
      ]
    },
    {
      "cell_type": "code",
      "metadata": {
        "id": "A6g665JlVM97"
      },
      "source": [
        "Data.to_csv(r\"/content/drive/MyDrive/ML/01 Data set/00TotData.csv\",index=False)"
      ],
      "execution_count": 209,
      "outputs": []
    },
    {
      "cell_type": "markdown",
      "metadata": {
        "id": "vic14IDKTocT"
      },
      "source": [
        "## Select Features"
      ]
    },
    {
      "cell_type": "code",
      "metadata": {
        "colab": {
          "base_uri": "https://localhost:8080/"
        },
        "id": "YK0YxGgXSwyD",
        "outputId": "c34c8d1f-a85d-41c8-9e76-3f116ecb0b21"
      },
      "source": [
        "print(Data.columns.sort_values())"
      ],
      "execution_count": 151,
      "outputs": [
        {
          "output_type": "stream",
          "text": [
            "Index(['Dintpkt', 'Djit', 'Dload', 'Dpkts', 'Label', 'Ltime', 'Sintpkt', 'Sjit', 'Sload', 'Spkts', 'Stime', 'ackdat', 'attack_cat', 'ct_dst_ltm', 'ct_dst_sport_ltm', 'ct_dst_src_ltm', 'ct_flw_http_mthd', 'ct_ftp_cmd', 'ct_src_dport_ltm', 'ct_src_ltm', 'ct_srv_dst', 'ct_srv_src', 'ct_state_ttl', 'dbytes', 'dloss', 'dmeansz', 'dsport', 'dstip', 'dtcpb', 'dttl', 'dur', 'dwin', 'is_ftp_login', 'is_sm_ips_ports', 'proto', 'res_bdy_len', 'sbytes', 'service', 'sloss', 'smeansz', 'sport', 'srcip', 'state', 'stcpb', 'sttl', 'swin', 'synack', 'tcprtt', 'trans_depth'], dtype='object')\n"
          ],
          "name": "stdout"
        }
      ]
    },
    {
      "cell_type": "code",
      "metadata": {
        "id": "Z9B25MYtWaS1"
      },
      "source": [
        "selectedFeatures=[\r\n",
        "                  \"sttl\",\"ct_dst_src_ltm\",\"Spkts\",\"Dload\",\"sloss\",\"dloss\",\"ct_src_ltm\",\"ct_srv_dst\",\r\n",
        "                  \"sbytes\",\"smeansz\",\"ct_dst_sport_ltm\",\r\n",
        "                  ]"
      ],
      "execution_count": 210,
      "outputs": []
    },
    {
      "cell_type": "code",
      "metadata": {
        "id": "qEYIQAgiZhCg"
      },
      "source": [
        "Data2=Data[selectedFeatures+['Label','attack_cat']]"
      ],
      "execution_count": 222,
      "outputs": []
    },
    {
      "cell_type": "code",
      "metadata": {
        "colab": {
          "base_uri": "https://localhost:8080/"
        },
        "id": "OyyO138TwzpD",
        "outputId": "8923a049-7443-46a4-b26d-d4f26f79c1ed"
      },
      "source": [
        "print(Data2.shape)\r\n",
        "Data2.drop_duplicates(keep=False,inplace=True) \r\n",
        "print(Data2.shape)"
      ],
      "execution_count": 223,
      "outputs": [
        {
          "output_type": "stream",
          "text": [
            "(1971209, 13)\n",
            "(1599305, 13)\n"
          ],
          "name": "stdout"
        }
      ]
    },
    {
      "cell_type": "markdown",
      "metadata": {
        "id": "tujkvRZeg6H3"
      },
      "source": [
        "## Split"
      ]
    },
    {
      "cell_type": "code",
      "metadata": {
        "colab": {
          "base_uri": "https://localhost:8080/",
          "height": 54
        },
        "id": "J-87KunAZyBR",
        "outputId": "3e2b0d05-8298-48fe-d405-0110fbd67e47"
      },
      "source": [
        "y=Data2[['Label','attack_cat']]\r\n",
        "x=Data2.drop(['Label','attack_cat'],axis=1)\r\n",
        "x_train, x_test, y_train, y_test  = train_test_split(x, y, test_size=0.2, random_state=2)\r\n",
        "x_train.reset_index(inplace=True,drop=True)\r\n",
        "x_test.reset_index(inplace=True,drop=True)\r\n",
        "y_train.reset_index(inplace=True,drop=True)\r\n",
        "y_test.reset_index(inplace=True,drop=True)\r\n",
        "'''print('x_train shape:\\n',x_train.shape)\r\n",
        "print('y_train shape:\\n',y_train.shape)\r\n",
        "print('x_test shape:\\n',x_test.shape)\r\n",
        "print('y_test  shape:\\n',y_test .shape)'''"
      ],
      "execution_count": 224,
      "outputs": [
        {
          "output_type": "execute_result",
          "data": {
            "application/vnd.google.colaboratory.intrinsic+json": {
              "type": "string"
            },
            "text/plain": [
              "\"print('x_train shape:\\n',x_train.shape)\\nprint('y_train shape:\\n',y_train.shape)\\nprint('x_test shape:\\n',x_test.shape)\\nprint('y_test  shape:\\n',y_test .shape)\""
            ]
          },
          "metadata": {
            "tags": []
          },
          "execution_count": 224
        }
      ]
    },
    {
      "cell_type": "code",
      "metadata": {
        "id": "yi_e1dMDiH_1"
      },
      "source": [
        "y_train1=y_train['Label']\r\n",
        "y_train2=y_train['attack_cat']\r\n",
        "\r\n",
        "y_test1=y_test['Label']\r\n",
        "y_test2=y_test['attack_cat']"
      ],
      "execution_count": 225,
      "outputs": []
    },
    {
      "cell_type": "code",
      "metadata": {
        "colab": {
          "base_uri": "https://localhost:8080/",
          "height": 198
        },
        "id": "Srnpt228nlgv",
        "outputId": "d8ddbae1-9e9b-4308-ce55-1028d3af6f9f"
      },
      "source": [
        "x_train.head()"
      ],
      "execution_count": 226,
      "outputs": [
        {
          "output_type": "execute_result",
          "data": {
            "text/html": [
              "<div>\n",
              "<style scoped>\n",
              "    .dataframe tbody tr th:only-of-type {\n",
              "        vertical-align: middle;\n",
              "    }\n",
              "\n",
              "    .dataframe tbody tr th {\n",
              "        vertical-align: top;\n",
              "    }\n",
              "\n",
              "    .dataframe thead th {\n",
              "        text-align: right;\n",
              "    }\n",
              "</style>\n",
              "<table border=\"1\" class=\"dataframe\">\n",
              "  <thead>\n",
              "    <tr style=\"text-align: right;\">\n",
              "      <th></th>\n",
              "      <th>sttl</th>\n",
              "      <th>ct_dst_src_ltm</th>\n",
              "      <th>Spkts</th>\n",
              "      <th>Dload</th>\n",
              "      <th>sloss</th>\n",
              "      <th>dloss</th>\n",
              "      <th>ct_src_ltm</th>\n",
              "      <th>ct_srv_dst</th>\n",
              "      <th>sbytes</th>\n",
              "      <th>smeansz</th>\n",
              "      <th>ct_dst_sport_ltm</th>\n",
              "    </tr>\n",
              "  </thead>\n",
              "  <tbody>\n",
              "    <tr>\n",
              "      <th>0</th>\n",
              "      <td>31</td>\n",
              "      <td>3</td>\n",
              "      <td>8</td>\n",
              "      <td>290869.21880</td>\n",
              "      <td>1</td>\n",
              "      <td>4</td>\n",
              "      <td>5</td>\n",
              "      <td>7</td>\n",
              "      <td>424</td>\n",
              "      <td>53</td>\n",
              "      <td>1</td>\n",
              "    </tr>\n",
              "    <tr>\n",
              "      <th>1</th>\n",
              "      <td>31</td>\n",
              "      <td>7</td>\n",
              "      <td>52</td>\n",
              "      <td>201305.79690</td>\n",
              "      <td>18</td>\n",
              "      <td>8</td>\n",
              "      <td>7</td>\n",
              "      <td>1</td>\n",
              "      <td>37402</td>\n",
              "      <td>719</td>\n",
              "      <td>1</td>\n",
              "    </tr>\n",
              "    <tr>\n",
              "      <th>2</th>\n",
              "      <td>31</td>\n",
              "      <td>3</td>\n",
              "      <td>28</td>\n",
              "      <td>50596.89063</td>\n",
              "      <td>7</td>\n",
              "      <td>7</td>\n",
              "      <td>5</td>\n",
              "      <td>9</td>\n",
              "      <td>5176</td>\n",
              "      <td>185</td>\n",
              "      <td>1</td>\n",
              "    </tr>\n",
              "    <tr>\n",
              "      <th>3</th>\n",
              "      <td>31</td>\n",
              "      <td>1</td>\n",
              "      <td>2</td>\n",
              "      <td>700787.37500</td>\n",
              "      <td>0</td>\n",
              "      <td>0</td>\n",
              "      <td>4</td>\n",
              "      <td>6</td>\n",
              "      <td>146</td>\n",
              "      <td>73</td>\n",
              "      <td>1</td>\n",
              "    </tr>\n",
              "    <tr>\n",
              "      <th>4</th>\n",
              "      <td>31</td>\n",
              "      <td>4</td>\n",
              "      <td>4</td>\n",
              "      <td>383685.15630</td>\n",
              "      <td>0</td>\n",
              "      <td>0</td>\n",
              "      <td>5</td>\n",
              "      <td>7</td>\n",
              "      <td>568</td>\n",
              "      <td>142</td>\n",
              "      <td>1</td>\n",
              "    </tr>\n",
              "  </tbody>\n",
              "</table>\n",
              "</div>"
            ],
            "text/plain": [
              "   sttl  ct_dst_src_ltm  Spkts         Dload  sloss  dloss  ct_src_ltm  ct_srv_dst  sbytes  smeansz  ct_dst_sport_ltm\n",
              "0    31               3      8  290869.21880      1      4           5           7     424       53                 1\n",
              "1    31               7     52  201305.79690     18      8           7           1   37402      719                 1\n",
              "2    31               3     28   50596.89063      7      7           5           9    5176      185                 1\n",
              "3    31               1      2  700787.37500      0      0           4           6     146       73                 1\n",
              "4    31               4      4  383685.15630      0      0           5           7     568      142                 1"
            ]
          },
          "metadata": {
            "tags": []
          },
          "execution_count": 226
        }
      ]
    },
    {
      "cell_type": "markdown",
      "metadata": {
        "id": "EY1fmP0io5Uc"
      },
      "source": [
        "## Cleaning"
      ]
    },
    {
      "cell_type": "code",
      "metadata": {
        "colab": {
          "base_uri": "https://localhost:8080/"
        },
        "id": "k5X0lMMHo3bV",
        "outputId": "d1cd48e4-4a35-4d63-f8fd-519ad740b188"
      },
      "source": [
        "print(y_train2.isnull().sum())"
      ],
      "execution_count": 227,
      "outputs": [
        {
          "output_type": "stream",
          "text": [
            "1234866\n"
          ],
          "name": "stdout"
        }
      ]
    },
    {
      "cell_type": "code",
      "metadata": {
        "id": "IV2oF7_4orWt"
      },
      "source": [
        "y_train2=y_train2.fillna(\"Normal\")\r\n",
        "y_test2=y_test2.fillna(\"Normal\")"
      ],
      "execution_count": 228,
      "outputs": []
    },
    {
      "cell_type": "code",
      "metadata": {
        "colab": {
          "base_uri": "https://localhost:8080/"
        },
        "id": "Q_LWfmCdxoA4",
        "outputId": "942fbf67-909a-44aa-e9df-99ab837ed2ba"
      },
      "source": [
        "y_train2.shape"
      ],
      "execution_count": 229,
      "outputs": [
        {
          "output_type": "execute_result",
          "data": {
            "text/plain": [
              "(1279444,)"
            ]
          },
          "metadata": {
            "tags": []
          },
          "execution_count": 229
        }
      ]
    },
    {
      "cell_type": "markdown",
      "metadata": {
        "id": "30bWih27p524"
      },
      "source": [
        "## Categorical Encoding"
      ]
    },
    {
      "cell_type": "code",
      "metadata": {
        "id": "5-GwmZO7p1Cn"
      },
      "source": [
        "y_train2=pd.get_dummies(y_train2)\r\n",
        "y_test2=pd.get_dummies(y_test2)"
      ],
      "execution_count": 230,
      "outputs": []
    },
    {
      "cell_type": "code",
      "metadata": {
        "colab": {
          "base_uri": "https://localhost:8080/"
        },
        "id": "fZ2C8NOusiWk",
        "outputId": "1008621b-9852-40ce-d8ff-37c8d47bd663"
      },
      "source": [
        "y_train2.columns"
      ],
      "execution_count": 231,
      "outputs": [
        {
          "output_type": "execute_result",
          "data": {
            "text/plain": [
              "Index(['Analysis', 'Backdoor', 'Backdoors', 'DoS', 'Exploits', 'Fuzzers', 'Generic', 'Normal', 'Reconnaissance', 'Shellcode', 'Worms'], dtype='object')"
            ]
          },
          "metadata": {
            "tags": []
          },
          "execution_count": 231
        }
      ]
    },
    {
      "cell_type": "code",
      "metadata": {
        "colab": {
          "base_uri": "https://localhost:8080/"
        },
        "id": "tZHGstHDqMLS",
        "outputId": "3118f547-8ecc-4f15-8594-b23b137c9409"
      },
      "source": [
        "y_test2.columns"
      ],
      "execution_count": 232,
      "outputs": [
        {
          "output_type": "execute_result",
          "data": {
            "text/plain": [
              "Index(['Analysis', 'Backdoor', 'Backdoors', 'DoS', 'Exploits', 'Fuzzers', 'Generic', 'Normal', 'Reconnaissance', 'Shellcode', 'Worms'], dtype='object')"
            ]
          },
          "metadata": {
            "tags": []
          },
          "execution_count": 232
        }
      ]
    },
    {
      "cell_type": "code",
      "metadata": {
        "colab": {
          "base_uri": "https://localhost:8080/"
        },
        "id": "5xwhrY2Xs6jn",
        "outputId": "79445d16-f20b-4478-c42a-c602c0f7717b"
      },
      "source": [
        "np.sum(y_train1)/y_train1.shape[0]"
      ],
      "execution_count": 233,
      "outputs": [
        {
          "output_type": "execute_result",
          "data": {
            "text/plain": [
              "0.034841696862074466"
            ]
          },
          "metadata": {
            "tags": []
          },
          "execution_count": 233
        }
      ]
    },
    {
      "cell_type": "code",
      "metadata": {
        "id": "YNVn4kvwqa-x"
      },
      "source": [
        "y_train2['Backdoor']=y_train2['Backdoor']+y_train2['Backdoors']\r\n",
        "y_test2['Backdoor']=y_test2['Backdoor']+y_test2['Backdoors']\r\n",
        "y_train2=y_train2.drop('Backdoors',axis=1)\r\n",
        "y_test2=y_test2.drop('Backdoors',axis=1)"
      ],
      "execution_count": 234,
      "outputs": []
    },
    {
      "cell_type": "code",
      "metadata": {
        "colab": {
          "base_uri": "https://localhost:8080/"
        },
        "id": "WiLz2oOKrtkr",
        "outputId": "87ba0a7f-58f3-4e62-a3a2-9391a0112563"
      },
      "source": [
        "y_train2.columns"
      ],
      "execution_count": 235,
      "outputs": [
        {
          "output_type": "execute_result",
          "data": {
            "text/plain": [
              "Index(['Analysis', 'Backdoor', 'DoS', 'Exploits', 'Fuzzers', 'Generic', 'Normal', 'Reconnaissance', 'Shellcode', 'Worms'], dtype='object')"
            ]
          },
          "metadata": {
            "tags": []
          },
          "execution_count": 235
        }
      ]
    },
    {
      "cell_type": "code",
      "metadata": {
        "id": "a1PckYSksDKS"
      },
      "source": [
        "x_train=x_train.reindex(sorted(x_train.columns), axis=1)#sort the data again \r\n",
        "x_test = x_test.reindex(sorted(x_test.columns), axis=1)\r\n",
        "\r\n",
        "y_train2=y_train2.reindex(sorted(y_train2.columns), axis=1)#sort the data again \r\n",
        "y_test2 = y_test2.reindex(sorted(y_test2.columns), axis=1)\r\n"
      ],
      "execution_count": 236,
      "outputs": []
    },
    {
      "cell_type": "markdown",
      "metadata": {
        "id": "B63hJfnCmp8b"
      },
      "source": [
        "## Normalization"
      ]
    },
    {
      "cell_type": "code",
      "metadata": {
        "id": "W5D4ZFnPi2w8"
      },
      "source": [
        "#Data2.to_csv(r\"/content/drive/MyDrive/ML/01 Data set/01SelectedFeature.csv\",index=False)"
      ],
      "execution_count": 160,
      "outputs": []
    },
    {
      "cell_type": "code",
      "metadata": {
        "id": "PVBR4sTum1Ad"
      },
      "source": [
        "columns=x_train.columns\r\n",
        "SS=StandardScaler(copy=True, with_mean=True, with_std=True)\r\n",
        "SS.fit(x_train)\r\n",
        "\r\n",
        "x_train=pd.DataFrame(SS.transform(x_train),columns=columns)\r\n",
        "x_test=pd.DataFrame(SS.transform(x_test),columns=columns)"
      ],
      "execution_count": 237,
      "outputs": []
    },
    {
      "cell_type": "markdown",
      "metadata": {
        "id": "VcIOwO8Ry2co"
      },
      "source": [
        "## Model"
      ]
    },
    {
      "cell_type": "code",
      "metadata": {
        "colab": {
          "base_uri": "https://localhost:8080/"
        },
        "id": "E6T5TpgqygWX",
        "outputId": "e34a6f7c-cff3-4183-fb5c-fe7169b927c8"
      },
      "source": [
        "input_layer= Input(shape=(x_train.shape[1]))\r\n",
        "x=Dense(128,'relu')(input_layer)\r\n",
        "x=Dense(64,'relu')(x)\r\n",
        "x=Dense(32,'relu')(x)\r\n",
        "x=Dense(16,'relu')(x)\r\n",
        "\r\n",
        "x=Dense(y_train2.shape[1],'softmax')(x)\r\n",
        "\r\n",
        "model = Model(inputs=input_layer, outputs=x)\r\n",
        "model.compile(optimizer ='adam',\r\n",
        "  loss='categorical_crossentropy',\r\n",
        "  metrics=['accuracy'])\r\n",
        "hist=model.fit(np.array(x_train), np.array(y_train2), epochs=1,\r\n",
        "          validation_data=(np.array(x_test), np.array(y_test2)))\r\n"
      ],
      "execution_count": 290,
      "outputs": [
        {
          "output_type": "stream",
          "text": [
            "39983/39983 [==============================] - 68s 2ms/step - loss: 0.0815 - accuracy: 0.9735 - val_loss: 0.0594 - val_accuracy: 0.9780\n"
          ],
          "name": "stdout"
        }
      ]
    },
    {
      "cell_type": "code",
      "metadata": {
        "colab": {
          "base_uri": "https://localhost:8080/"
        },
        "id": "Qgts-ditmVcl",
        "outputId": "13102f38-0a39-4800-c45f-ae9fd0544cb2"
      },
      "source": [
        "print(y_train1.shape\r\n",
        ",x_train.shape)"
      ],
      "execution_count": 428,
      "outputs": [
        {
          "output_type": "stream",
          "text": [
            "(1279444,) (1279444, 11)\n"
          ],
          "name": "stdout"
        }
      ]
    },
    {
      "cell_type": "code",
      "metadata": {
        "colab": {
          "base_uri": "https://localhost:8080/"
        },
        "id": "OpNpjt4AlkQp",
        "outputId": "f48aaebd-eca8-4aa1-eb4b-86359a66a961"
      },
      "source": [
        "\r\n",
        "input_layer= Input(shape=(x_train.shape[1]))\r\n",
        "x=Dense(32,'relu')(input_layer)\r\n",
        "x=Dropout(0.2)(x)\r\n",
        "x=Dense(16,'relu')(x)\r\n",
        "x=Dropout(0.2)(x)\r\n",
        "x=Dense(1,'sigmoid')(x)\r\n",
        "\r\n",
        "model = Model(inputs=input_layer, outputs=x)\r\n",
        "model.compile(optimizer ='adam',\r\n",
        "  loss='binary_crossentropy',\r\n",
        "  metrics=['accuracy'])\r\n",
        "hist=model.fit(np.array(x_train), np.array(y_train1), epochs=1,\r\n",
        "          validation_data=(np.array(x_test), np.array(y_test1)))"
      ],
      "execution_count": 429,
      "outputs": [
        {
          "output_type": "stream",
          "text": [
            "39983/39983 [==============================] - 60s 1ms/step - loss: 0.0403 - accuracy: 0.9832 - val_loss: 0.0253 - val_accuracy: 0.9879\n"
          ],
          "name": "stdout"
        }
      ]
    },
    {
      "cell_type": "code",
      "metadata": {
        "id": "vy3Po5UB6dDm"
      },
      "source": [
        "y_pred=model.predict(x_test)"
      ],
      "execution_count": 443,
      "outputs": []
    },
    {
      "cell_type": "code",
      "metadata": {
        "id": "OWkeevEZ6wKO"
      },
      "source": [
        "def SetMax(Prob):\r\n",
        "  pred=np.zeros(Prob.shape)\r\n",
        "  for l,s in enumerate(list(Prob)):\r\n",
        "    Max=0\r\n",
        "    Maxi=0\r\n",
        "    for i,j in enumerate(s):\r\n",
        "      if j>Max:\r\n",
        "        Max=j\r\n",
        "        Maxi=i\r\n",
        "    pred[l,Maxi]=1\r\n",
        "  return pred\r\n",
        "    \r\n"
      ],
      "execution_count": 444,
      "outputs": []
    },
    {
      "cell_type": "code",
      "metadata": {
        "id": "L3-ASUnfoh0v",
        "outputId": "249d1a66-d79d-4394-9f1a-c6af61652857",
        "colab": {
          "base_uri": "https://localhost:8080/",
          "height": 35
        }
      },
      "source": [
        ""
      ],
      "execution_count": 446,
      "outputs": [
        {
          "output_type": "execute_result",
          "data": {
            "application/vnd.google.colaboratory.intrinsic+json": {
              "type": "string"
            },
            "text/plain": [
              "'5'"
            ]
          },
          "metadata": {
            "tags": []
          },
          "execution_count": 446
        }
      ]
    },
    {
      "cell_type": "code",
      "metadata": {
        "id": "UpamsbwtoDV3"
      },
      "source": [
        ""
      ],
      "execution_count": 448,
      "outputs": []
    },
    {
      "cell_type": "code",
      "metadata": {
        "id": "0wQ_EQIlnqa0"
      },
      "source": [
        "y_pred2=y_pred2.tostring()"
      ],
      "execution_count": 441,
      "outputs": []
    },
    {
      "cell_type": "code",
      "metadata": {
        "id": "CpNZ0iG39z6G"
      },
      "source": [
        "y_pred2=SetMax(y_pred)\r\n",
        "y_pred2=np.array([str(i) for i in y_pred2],dtype=str)"
      ],
      "execution_count": 453,
      "outputs": []
    },
    {
      "cell_type": "code",
      "metadata": {
        "id": "ppzSirFGoW2n"
      },
      "source": [
        "y_pred2=pd.get_dummies(y_pred2)"
      ],
      "execution_count": 456,
      "outputs": []
    },
    {
      "cell_type": "code",
      "metadata": {
        "id": "WOyGc1Rho0aS",
        "outputId": "937c0356-73c5-488f-a0e7-3248ee3b3a4c",
        "colab": {
          "base_uri": "https://localhost:8080/"
        }
      },
      "source": [
        "y_pred2.shape"
      ],
      "execution_count": 458,
      "outputs": [
        {
          "output_type": "execute_result",
          "data": {
            "text/plain": [
              "(319861, 1)"
            ]
          },
          "metadata": {
            "tags": []
          },
          "execution_count": 458
        }
      ]
    },
    {
      "cell_type": "code",
      "metadata": {
        "id": "SsEGAO1Ua05d"
      },
      "source": [
        "import seaborn as sn\r\n",
        "import matplotlib.pyplot as plt\r\n",
        "def ConfusionMatrix(y_pred,y_real):\r\n",
        "  y_pred=np.array(y_pred)\r\n",
        "  y_real=np.array(y_real)\r\n",
        "  dim=y_pred.shape[1]\r\n",
        "  CM=np.zeros([dim,dim])\r\n",
        "  Percesion=np.zeros(dim)\r\n",
        "  Recall=np.zeros(dim)\r\n",
        "  F1=np.zeros(dim)\r\n",
        "  #diag=np.zeros(dim)\r\n",
        "  for i in range(y_pred.shape[0]):\r\n",
        "    CM[np.argmax(y_real[i,:])  ,  np.argmax(y_pred[i,:])]+=1\r\n",
        "  plt.figure(figsize = (10,7))\r\n",
        "  sn.heatmap(CM, annot=True)\r\n",
        "  \r\n",
        "  diag=np.array([CM[i,i] for i in range(dim)])\r\n",
        "  Percesion=diag/CM.sum(axis=0)\r\n",
        "  Recall=diag/CM.sum(axis=1)\r\n",
        "  F1=2*Percesion*Recall/(Percesion+Recall)\r\n",
        "  print(\"Percesion:\",Percesion)\r\n",
        "  print(\"Recall:\",Recall)\r\n",
        "  print(\"F1:\",F1)\r\n",
        "  return CM,Percesion,Recall,F1\r\n"
      ],
      "execution_count": 433,
      "outputs": []
    },
    {
      "cell_type": "code",
      "metadata": {
        "colab": {
          "base_uri": "https://localhost:8080/",
          "height": 316
        },
        "id": "k3YsmdBSBJWy",
        "outputId": "78d2c3cc-9403-4cea-845f-768fab61e23f"
      },
      "source": [
        "#print(type(y_test2))\r\n",
        "CM=ConfusionMatrix(y_pred2,y_test2)"
      ],
      "execution_count": 434,
      "outputs": [
        {
          "output_type": "error",
          "ename": "IndexError",
          "evalue": "ignored",
          "traceback": [
            "\u001b[0;31m---------------------------------------------------------------------------\u001b[0m",
            "\u001b[0;31mIndexError\u001b[0m                                Traceback (most recent call last)",
            "\u001b[0;32m<ipython-input-434-e115cbee2fa6>\u001b[0m in \u001b[0;36m<module>\u001b[0;34m()\u001b[0m\n\u001b[1;32m      1\u001b[0m \u001b[0;31m#print(type(y_test2))\u001b[0m\u001b[0;34m\u001b[0m\u001b[0;34m\u001b[0m\u001b[0;34m\u001b[0m\u001b[0m\n\u001b[0;32m----> 2\u001b[0;31m \u001b[0mCM\u001b[0m\u001b[0;34m=\u001b[0m\u001b[0mConfusionMatrix\u001b[0m\u001b[0;34m(\u001b[0m\u001b[0my_pred2\u001b[0m\u001b[0;34m,\u001b[0m\u001b[0my_test2\u001b[0m\u001b[0;34m)\u001b[0m\u001b[0;34m\u001b[0m\u001b[0;34m\u001b[0m\u001b[0m\n\u001b[0m",
            "\u001b[0;32m<ipython-input-433-90bb8ddc29de>\u001b[0m in \u001b[0;36mConfusionMatrix\u001b[0;34m(y_pred, y_real)\u001b[0m\n\u001b[1;32m     11\u001b[0m   \u001b[0;31m#diag=np.zeros(dim)\u001b[0m\u001b[0;34m\u001b[0m\u001b[0;34m\u001b[0m\u001b[0;34m\u001b[0m\u001b[0m\n\u001b[1;32m     12\u001b[0m   \u001b[0;32mfor\u001b[0m \u001b[0mi\u001b[0m \u001b[0;32min\u001b[0m \u001b[0mrange\u001b[0m\u001b[0;34m(\u001b[0m\u001b[0my_pred\u001b[0m\u001b[0;34m.\u001b[0m\u001b[0mshape\u001b[0m\u001b[0;34m[\u001b[0m\u001b[0;36m0\u001b[0m\u001b[0;34m]\u001b[0m\u001b[0;34m)\u001b[0m\u001b[0;34m:\u001b[0m\u001b[0;34m\u001b[0m\u001b[0;34m\u001b[0m\u001b[0m\n\u001b[0;32m---> 13\u001b[0;31m     \u001b[0mCM\u001b[0m\u001b[0;34m[\u001b[0m\u001b[0mnp\u001b[0m\u001b[0;34m.\u001b[0m\u001b[0margmax\u001b[0m\u001b[0;34m(\u001b[0m\u001b[0my_real\u001b[0m\u001b[0;34m[\u001b[0m\u001b[0mi\u001b[0m\u001b[0;34m,\u001b[0m\u001b[0;34m:\u001b[0m\u001b[0;34m]\u001b[0m\u001b[0;34m)\u001b[0m  \u001b[0;34m,\u001b[0m  \u001b[0mnp\u001b[0m\u001b[0;34m.\u001b[0m\u001b[0margmax\u001b[0m\u001b[0;34m(\u001b[0m\u001b[0my_pred\u001b[0m\u001b[0;34m[\u001b[0m\u001b[0mi\u001b[0m\u001b[0;34m,\u001b[0m\u001b[0;34m:\u001b[0m\u001b[0;34m]\u001b[0m\u001b[0;34m)\u001b[0m\u001b[0;34m]\u001b[0m\u001b[0;34m+=\u001b[0m\u001b[0;36m1\u001b[0m\u001b[0;34m\u001b[0m\u001b[0;34m\u001b[0m\u001b[0m\n\u001b[0m\u001b[1;32m     14\u001b[0m   \u001b[0mplt\u001b[0m\u001b[0;34m.\u001b[0m\u001b[0mfigure\u001b[0m\u001b[0;34m(\u001b[0m\u001b[0mfigsize\u001b[0m \u001b[0;34m=\u001b[0m \u001b[0;34m(\u001b[0m\u001b[0;36m10\u001b[0m\u001b[0;34m,\u001b[0m\u001b[0;36m7\u001b[0m\u001b[0;34m)\u001b[0m\u001b[0;34m)\u001b[0m\u001b[0;34m\u001b[0m\u001b[0;34m\u001b[0m\u001b[0m\n\u001b[1;32m     15\u001b[0m   \u001b[0msn\u001b[0m\u001b[0;34m.\u001b[0m\u001b[0mheatmap\u001b[0m\u001b[0;34m(\u001b[0m\u001b[0mCM\u001b[0m\u001b[0;34m,\u001b[0m \u001b[0mannot\u001b[0m\u001b[0;34m=\u001b[0m\u001b[0;32mTrue\u001b[0m\u001b[0;34m)\u001b[0m\u001b[0;34m\u001b[0m\u001b[0;34m\u001b[0m\u001b[0m\n",
            "\u001b[0;31mIndexError\u001b[0m: index 6 is out of bounds for axis 0 with size 1"
          ]
        }
      ]
    },
    {
      "cell_type": "code",
      "metadata": {
        "id": "qcI4nERQEYrm"
      },
      "source": [
        "\r\n"
      ],
      "execution_count": null,
      "outputs": []
    },
    {
      "cell_type": "code",
      "metadata": {
        "id": "MziIxcGcLzSA"
      },
      "source": [
        ""
      ],
      "execution_count": null,
      "outputs": []
    }
  ]
}