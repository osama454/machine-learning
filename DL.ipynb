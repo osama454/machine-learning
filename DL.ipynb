{
  "nbformat": 4,
  "nbformat_minor": 0,
  "metadata": {
    "colab": {
      "name": "Untitled1.ipynb",
      "provenance": []
    },
    "kernelspec": {
      "name": "python3",
      "display_name": "Python 3"
    },
    "accelerator": "GPU"
  },
  "cells": [
    {
      "cell_type": "markdown",
      "metadata": {
        "id": "bovq14q_ygFO"
      },
      "source": [
        "## import libraries"
      ]
    },
    {
      "cell_type": "code",
      "metadata": {
        "id": "9T8WBu_Jyl9c"
      },
      "source": [
        "#%%import libraries\n",
        "import numpy as np\n",
        "np.set_printoptions(threshold=np.inf) \n",
        "np.core.arrayprint._line_width=np.inf\n",
        "\n",
        "import pandas as pd\n",
        "pd.set_option('display.max_columns', 500)\n",
        "pd.set_option('display.max_rows', 300)\n",
        "pd.set_option('display.width', 100000)\n",
        "\n",
        "import os\n",
        "import shutil\n",
        "import glob\n",
        "\n",
        "import sklearn  \n",
        "from sklearn.ensemble.gradient_boosting import train_test_split\n",
        "from sklearn.impute import SimpleImputer\n",
        "from sklearn.feature_selection import SelectKBest,f_classif,chi2\n",
        "from sklearn.preprocessing import StandardScaler\n",
        "\n",
        "import tensorflow as tf\n",
        "from tensorflow.keras.models import Model\n",
        "from tensorflow.keras.layers import ( Dense, Dropout,Input)\n",
        "from tensorflow.keras.models import load_model\n",
        "\n",
        "import pickle\n",
        "\n",
        "import warnings\n",
        "warnings.filterwarnings(\"ignore\")\n",
        "\n",
        "#%%Read Data\n"
      ],
      "execution_count": null,
      "outputs": []
    },
    {
      "cell_type": "markdown",
      "metadata": {
        "id": "jhrF6HvmA6IB"
      },
      "source": [
        "## Read The Data"
      ]
    },
    {
      "cell_type": "code",
      "metadata": {
        "id": "Tu7AzQK3-7bV",
        "outputId": "77f81e2e-c3dd-4a47-b0d3-e301adf47320",
        "colab": {
          "base_uri": "https://localhost:8080/",
          "height": 1000
        }
      },
      "source": [
        "features=pd.read_csv('/content/drive/My Drive/ML/01 Data set/NUSW-NB15_features.csv',engine='python')\n",
        "features"
      ],
      "execution_count": null,
      "outputs": [
        {
          "output_type": "execute_result",
          "data": {
            "text/html": [
              "<div>\n",
              "<style scoped>\n",
              "    .dataframe tbody tr th:only-of-type {\n",
              "        vertical-align: middle;\n",
              "    }\n",
              "\n",
              "    .dataframe tbody tr th {\n",
              "        vertical-align: top;\n",
              "    }\n",
              "\n",
              "    .dataframe thead th {\n",
              "        text-align: right;\n",
              "    }\n",
              "</style>\n",
              "<table border=\"1\" class=\"dataframe\">\n",
              "  <thead>\n",
              "    <tr style=\"text-align: right;\">\n",
              "      <th></th>\n",
              "      <th>No.</th>\n",
              "      <th>Name</th>\n",
              "      <th>Type</th>\n",
              "      <th>Description</th>\n",
              "    </tr>\n",
              "  </thead>\n",
              "  <tbody>\n",
              "    <tr>\n",
              "      <th>0</th>\n",
              "      <td>1</td>\n",
              "      <td>srcip</td>\n",
              "      <td>nominal</td>\n",
              "      <td>Source IP address</td>\n",
              "    </tr>\n",
              "    <tr>\n",
              "      <th>1</th>\n",
              "      <td>2</td>\n",
              "      <td>sport</td>\n",
              "      <td>integer</td>\n",
              "      <td>Source port number</td>\n",
              "    </tr>\n",
              "    <tr>\n",
              "      <th>2</th>\n",
              "      <td>3</td>\n",
              "      <td>dstip</td>\n",
              "      <td>nominal</td>\n",
              "      <td>Destination IP address</td>\n",
              "    </tr>\n",
              "    <tr>\n",
              "      <th>3</th>\n",
              "      <td>4</td>\n",
              "      <td>dsport</td>\n",
              "      <td>integer</td>\n",
              "      <td>Destination port number</td>\n",
              "    </tr>\n",
              "    <tr>\n",
              "      <th>4</th>\n",
              "      <td>5</td>\n",
              "      <td>proto</td>\n",
              "      <td>nominal</td>\n",
              "      <td>Transaction protocol</td>\n",
              "    </tr>\n",
              "    <tr>\n",
              "      <th>5</th>\n",
              "      <td>6</td>\n",
              "      <td>state</td>\n",
              "      <td>nominal</td>\n",
              "      <td>Indicates to the state and its dependent proto...</td>\n",
              "    </tr>\n",
              "    <tr>\n",
              "      <th>6</th>\n",
              "      <td>7</td>\n",
              "      <td>dur</td>\n",
              "      <td>Float</td>\n",
              "      <td>Record total duration</td>\n",
              "    </tr>\n",
              "    <tr>\n",
              "      <th>7</th>\n",
              "      <td>8</td>\n",
              "      <td>sbytes</td>\n",
              "      <td>Integer</td>\n",
              "      <td>Source to destination transaction bytes</td>\n",
              "    </tr>\n",
              "    <tr>\n",
              "      <th>8</th>\n",
              "      <td>9</td>\n",
              "      <td>dbytes</td>\n",
              "      <td>Integer</td>\n",
              "      <td>Destination to source transaction bytes</td>\n",
              "    </tr>\n",
              "    <tr>\n",
              "      <th>9</th>\n",
              "      <td>10</td>\n",
              "      <td>sttl</td>\n",
              "      <td>Integer</td>\n",
              "      <td>Source to destination time to live value</td>\n",
              "    </tr>\n",
              "    <tr>\n",
              "      <th>10</th>\n",
              "      <td>11</td>\n",
              "      <td>dttl</td>\n",
              "      <td>Integer</td>\n",
              "      <td>Destination to source time to live value</td>\n",
              "    </tr>\n",
              "    <tr>\n",
              "      <th>11</th>\n",
              "      <td>12</td>\n",
              "      <td>sloss</td>\n",
              "      <td>Integer</td>\n",
              "      <td>Source packets retransmitted or dropped</td>\n",
              "    </tr>\n",
              "    <tr>\n",
              "      <th>12</th>\n",
              "      <td>13</td>\n",
              "      <td>dloss</td>\n",
              "      <td>Integer</td>\n",
              "      <td>Destination packets retransmitted or dropped</td>\n",
              "    </tr>\n",
              "    <tr>\n",
              "      <th>13</th>\n",
              "      <td>14</td>\n",
              "      <td>service</td>\n",
              "      <td>nominal</td>\n",
              "      <td>http, ftp, smtp, ssh, dns, ftp-data ,irc  and ...</td>\n",
              "    </tr>\n",
              "    <tr>\n",
              "      <th>14</th>\n",
              "      <td>15</td>\n",
              "      <td>Sload</td>\n",
              "      <td>Float</td>\n",
              "      <td>Source bits per second</td>\n",
              "    </tr>\n",
              "    <tr>\n",
              "      <th>15</th>\n",
              "      <td>16</td>\n",
              "      <td>Dload</td>\n",
              "      <td>Float</td>\n",
              "      <td>Destination bits per second</td>\n",
              "    </tr>\n",
              "    <tr>\n",
              "      <th>16</th>\n",
              "      <td>17</td>\n",
              "      <td>Spkts</td>\n",
              "      <td>integer</td>\n",
              "      <td>Source to destination packet count</td>\n",
              "    </tr>\n",
              "    <tr>\n",
              "      <th>17</th>\n",
              "      <td>18</td>\n",
              "      <td>Dpkts</td>\n",
              "      <td>integer</td>\n",
              "      <td>Destination to source packet count</td>\n",
              "    </tr>\n",
              "    <tr>\n",
              "      <th>18</th>\n",
              "      <td>19</td>\n",
              "      <td>swin</td>\n",
              "      <td>integer</td>\n",
              "      <td>Source TCP window advertisement value</td>\n",
              "    </tr>\n",
              "    <tr>\n",
              "      <th>19</th>\n",
              "      <td>20</td>\n",
              "      <td>dwin</td>\n",
              "      <td>integer</td>\n",
              "      <td>Destination TCP window advertisement value</td>\n",
              "    </tr>\n",
              "    <tr>\n",
              "      <th>20</th>\n",
              "      <td>21</td>\n",
              "      <td>stcpb</td>\n",
              "      <td>integer</td>\n",
              "      <td>Source TCP base sequence number</td>\n",
              "    </tr>\n",
              "    <tr>\n",
              "      <th>21</th>\n",
              "      <td>22</td>\n",
              "      <td>dtcpb</td>\n",
              "      <td>integer</td>\n",
              "      <td>Destination TCP base sequence number</td>\n",
              "    </tr>\n",
              "    <tr>\n",
              "      <th>22</th>\n",
              "      <td>23</td>\n",
              "      <td>smeansz</td>\n",
              "      <td>integer</td>\n",
              "      <td>Mean of the ?ow packet size transmitted by the...</td>\n",
              "    </tr>\n",
              "    <tr>\n",
              "      <th>23</th>\n",
              "      <td>24</td>\n",
              "      <td>dmeansz</td>\n",
              "      <td>integer</td>\n",
              "      <td>Mean of the ?ow packet size transmitted by the...</td>\n",
              "    </tr>\n",
              "    <tr>\n",
              "      <th>24</th>\n",
              "      <td>25</td>\n",
              "      <td>trans_depth</td>\n",
              "      <td>integer</td>\n",
              "      <td>Represents the pipelined depth into the connec...</td>\n",
              "    </tr>\n",
              "    <tr>\n",
              "      <th>25</th>\n",
              "      <td>26</td>\n",
              "      <td>res_bdy_len</td>\n",
              "      <td>integer</td>\n",
              "      <td>Actual uncompressed content size of the data t...</td>\n",
              "    </tr>\n",
              "    <tr>\n",
              "      <th>26</th>\n",
              "      <td>27</td>\n",
              "      <td>Sjit</td>\n",
              "      <td>Float</td>\n",
              "      <td>Source jitter (mSec)</td>\n",
              "    </tr>\n",
              "    <tr>\n",
              "      <th>27</th>\n",
              "      <td>28</td>\n",
              "      <td>Djit</td>\n",
              "      <td>Float</td>\n",
              "      <td>Destination jitter (mSec)</td>\n",
              "    </tr>\n",
              "    <tr>\n",
              "      <th>28</th>\n",
              "      <td>29</td>\n",
              "      <td>Stime</td>\n",
              "      <td>Timestamp</td>\n",
              "      <td>record start time</td>\n",
              "    </tr>\n",
              "    <tr>\n",
              "      <th>29</th>\n",
              "      <td>30</td>\n",
              "      <td>Ltime</td>\n",
              "      <td>Timestamp</td>\n",
              "      <td>record last time</td>\n",
              "    </tr>\n",
              "    <tr>\n",
              "      <th>30</th>\n",
              "      <td>31</td>\n",
              "      <td>Sintpkt</td>\n",
              "      <td>Float</td>\n",
              "      <td>Source interpacket arrival time (mSec)</td>\n",
              "    </tr>\n",
              "    <tr>\n",
              "      <th>31</th>\n",
              "      <td>32</td>\n",
              "      <td>Dintpkt</td>\n",
              "      <td>Float</td>\n",
              "      <td>Destination interpacket arrival time (mSec)</td>\n",
              "    </tr>\n",
              "    <tr>\n",
              "      <th>32</th>\n",
              "      <td>33</td>\n",
              "      <td>tcprtt</td>\n",
              "      <td>Float</td>\n",
              "      <td>TCP connection setup round-trip time, the sum ...</td>\n",
              "    </tr>\n",
              "    <tr>\n",
              "      <th>33</th>\n",
              "      <td>34</td>\n",
              "      <td>synack</td>\n",
              "      <td>Float</td>\n",
              "      <td>TCP connection setup time, the time between th...</td>\n",
              "    </tr>\n",
              "    <tr>\n",
              "      <th>34</th>\n",
              "      <td>35</td>\n",
              "      <td>ackdat</td>\n",
              "      <td>Float</td>\n",
              "      <td>TCP connection setup time, the time between th...</td>\n",
              "    </tr>\n",
              "    <tr>\n",
              "      <th>35</th>\n",
              "      <td>36</td>\n",
              "      <td>is_sm_ips_ports</td>\n",
              "      <td>Binary</td>\n",
              "      <td>If source (1) and destination (3)IP addresses ...</td>\n",
              "    </tr>\n",
              "    <tr>\n",
              "      <th>36</th>\n",
              "      <td>37</td>\n",
              "      <td>ct_state_ttl</td>\n",
              "      <td>Integer</td>\n",
              "      <td>No. for each state (6) according to specific r...</td>\n",
              "    </tr>\n",
              "    <tr>\n",
              "      <th>37</th>\n",
              "      <td>38</td>\n",
              "      <td>ct_flw_http_mthd</td>\n",
              "      <td>Integer</td>\n",
              "      <td>No. of flows that has methods such as Get and ...</td>\n",
              "    </tr>\n",
              "    <tr>\n",
              "      <th>38</th>\n",
              "      <td>39</td>\n",
              "      <td>is_ftp_login</td>\n",
              "      <td>Binary</td>\n",
              "      <td>If the ftp session is accessed by user and pas...</td>\n",
              "    </tr>\n",
              "    <tr>\n",
              "      <th>39</th>\n",
              "      <td>40</td>\n",
              "      <td>ct_ftp_cmd</td>\n",
              "      <td>integer</td>\n",
              "      <td>No of flows that has a command in ftp session.</td>\n",
              "    </tr>\n",
              "    <tr>\n",
              "      <th>40</th>\n",
              "      <td>41</td>\n",
              "      <td>ct_srv_src</td>\n",
              "      <td>integer</td>\n",
              "      <td>No. of connections that contain the same servi...</td>\n",
              "    </tr>\n",
              "    <tr>\n",
              "      <th>41</th>\n",
              "      <td>42</td>\n",
              "      <td>ct_srv_dst</td>\n",
              "      <td>integer</td>\n",
              "      <td>No. of connections that contain the same servi...</td>\n",
              "    </tr>\n",
              "    <tr>\n",
              "      <th>42</th>\n",
              "      <td>43</td>\n",
              "      <td>ct_dst_ltm</td>\n",
              "      <td>integer</td>\n",
              "      <td>No. of connections of the same destination add...</td>\n",
              "    </tr>\n",
              "    <tr>\n",
              "      <th>43</th>\n",
              "      <td>44</td>\n",
              "      <td>ct_src_ ltm</td>\n",
              "      <td>integer</td>\n",
              "      <td>No. of connections of the same source address ...</td>\n",
              "    </tr>\n",
              "    <tr>\n",
              "      <th>44</th>\n",
              "      <td>45</td>\n",
              "      <td>ct_src_dport_ltm</td>\n",
              "      <td>integer</td>\n",
              "      <td>No of connections of the same source address (...</td>\n",
              "    </tr>\n",
              "    <tr>\n",
              "      <th>45</th>\n",
              "      <td>46</td>\n",
              "      <td>ct_dst_sport_ltm</td>\n",
              "      <td>integer</td>\n",
              "      <td>No of connections of the same destination addr...</td>\n",
              "    </tr>\n",
              "    <tr>\n",
              "      <th>46</th>\n",
              "      <td>47</td>\n",
              "      <td>ct_dst_src_ltm</td>\n",
              "      <td>integer</td>\n",
              "      <td>No of connections of the same source (1) and t...</td>\n",
              "    </tr>\n",
              "    <tr>\n",
              "      <th>47</th>\n",
              "      <td>48</td>\n",
              "      <td>attack_cat</td>\n",
              "      <td>nominal</td>\n",
              "      <td>The name of each attack category. In this data...</td>\n",
              "    </tr>\n",
              "    <tr>\n",
              "      <th>48</th>\n",
              "      <td>49</td>\n",
              "      <td>Label</td>\n",
              "      <td>binary</td>\n",
              "      <td>0 for normal and 1 for attack records</td>\n",
              "    </tr>\n",
              "  </tbody>\n",
              "</table>\n",
              "</div>"
            ],
            "text/plain": [
              "    No.              Name      Type                                         Description\n",
              "0     1             srcip    nominal                                  Source IP address\n",
              "1     2             sport    integer                                 Source port number\n",
              "2     3             dstip    nominal                             Destination IP address\n",
              "3     4            dsport    integer                            Destination port number\n",
              "4     5             proto    nominal                               Transaction protocol\n",
              "5     6             state    nominal  Indicates to the state and its dependent proto...\n",
              "6     7               dur      Float                              Record total duration\n",
              "7     8            sbytes    Integer           Source to destination transaction bytes \n",
              "8     9            dbytes    Integer            Destination to source transaction bytes\n",
              "9    10              sttl    Integer          Source to destination time to live value \n",
              "10   11              dttl    Integer           Destination to source time to live value\n",
              "11   12             sloss    Integer           Source packets retransmitted or dropped \n",
              "12   13             dloss    Integer       Destination packets retransmitted or dropped\n",
              "13   14           service    nominal  http, ftp, smtp, ssh, dns, ftp-data ,irc  and ...\n",
              "14   15             Sload      Float                             Source bits per second\n",
              "15   16             Dload      Float                        Destination bits per second\n",
              "16   17             Spkts    integer                Source to destination packet count \n",
              "17   18             Dpkts    integer                 Destination to source packet count\n",
              "18   19              swin    integer              Source TCP window advertisement value\n",
              "19   20              dwin    integer         Destination TCP window advertisement value\n",
              "20   21             stcpb    integer                    Source TCP base sequence number\n",
              "21   22             dtcpb    integer               Destination TCP base sequence number\n",
              "22   23           smeansz    integer  Mean of the ?ow packet size transmitted by the...\n",
              "23   24           dmeansz    integer  Mean of the ?ow packet size transmitted by the...\n",
              "24   25       trans_depth    integer  Represents the pipelined depth into the connec...\n",
              "25   26       res_bdy_len    integer  Actual uncompressed content size of the data t...\n",
              "26   27              Sjit      Float                               Source jitter (mSec)\n",
              "27   28              Djit      Float                          Destination jitter (mSec)\n",
              "28   29             Stime  Timestamp                                  record start time\n",
              "29   30             Ltime  Timestamp                                   record last time\n",
              "30   31           Sintpkt      Float             Source interpacket arrival time (mSec)\n",
              "31   32           Dintpkt      Float        Destination interpacket arrival time (mSec)\n",
              "32   33            tcprtt      Float  TCP connection setup round-trip time, the sum ...\n",
              "33   34            synack      Float  TCP connection setup time, the time between th...\n",
              "34   35            ackdat      Float  TCP connection setup time, the time between th...\n",
              "35   36   is_sm_ips_ports     Binary  If source (1) and destination (3)IP addresses ...\n",
              "36   37      ct_state_ttl    Integer  No. for each state (6) according to specific r...\n",
              "37   38  ct_flw_http_mthd    Integer  No. of flows that has methods such as Get and ...\n",
              "38   39      is_ftp_login     Binary  If the ftp session is accessed by user and pas...\n",
              "39   40        ct_ftp_cmd    integer     No of flows that has a command in ftp session.\n",
              "40   41        ct_srv_src    integer  No. of connections that contain the same servi...\n",
              "41   42        ct_srv_dst    integer  No. of connections that contain the same servi...\n",
              "42   43        ct_dst_ltm    integer  No. of connections of the same destination add...\n",
              "43   44       ct_src_ ltm    integer  No. of connections of the same source address ...\n",
              "44   45  ct_src_dport_ltm    integer  No of connections of the same source address (...\n",
              "45   46  ct_dst_sport_ltm    integer  No of connections of the same destination addr...\n",
              "46   47    ct_dst_src_ltm    integer  No of connections of the same source (1) and t...\n",
              "47   48        attack_cat    nominal  The name of each attack category. In this data...\n",
              "48   49             Label     binary              0 for normal and 1 for attack records"
            ]
          },
          "metadata": {
            "tags": []
          },
          "execution_count": 58
        }
      ]
    },
    {
      "cell_type": "code",
      "metadata": {
        "id": "r53nioR1BGQN"
      },
      "source": [
        "cols=features[\"Name\"]\n",
        "data1=pd.read_csv('/content/drive/My Drive/ML/01 Data set/UNSW-NB15_1.csv',names=cols)\n",
        "data2=pd.read_csv('/content/drive/My Drive/ML/01 Data set/UNSW-NB15_2.csv',names=cols)\n",
        "data3=pd.read_csv('/content/drive/My Drive/ML/01 Data set/UNSW-NB15_3.csv',names=cols)\n",
        "data4=pd.read_csv('/content/drive/My Drive/ML/01 Data set/UNSW-NB15_4.csv',names=cols)\n",
        "Data=pd.concat([data1,data2,data3,data4],ignore_index=True)\n",
        "Data=Data.replace(r'^\\s*$', np.nan, regex=True)\n",
        "del data1,data2,data3,data4"
      ],
      "execution_count": null,
      "outputs": []
    },
    {
      "cell_type": "markdown",
      "metadata": {
        "id": "B9-KaKkmBfRG"
      },
      "source": [
        "## Visulaize the Data"
      ]
    },
    {
      "cell_type": "code",
      "metadata": {
        "id": "6QbLCol-_B_x",
        "outputId": "21027d2f-ae72-4b43-f868-2ede481a7ddc",
        "colab": {
          "base_uri": "https://localhost:8080/"
        }
      },
      "source": [
        "print(\"Data Shape:\\n\",Data.shape)\n",
        "print(100*\"=\")\n",
        "print(\"Data Head:\\n\",Data.head())\n",
        "print(100*\"=\")\n",
        "print(\"Data Types:\\n\",Data.dtypes)\n",
        "print(100*\"=\")\n",
        "print(\"Null Data:\\n\",Data.isnull().sum().sort_values(ascending=False,inplace=False))"
      ],
      "execution_count": null,
      "outputs": [
        {
          "output_type": "stream",
          "text": [
            "Data Shape:\n",
            " (2540047, 49)\n",
            "====================================================================================================\n",
            "Data Head:\n",
            "         srcip  sport          dstip dsport proto state       dur  sbytes  dbytes  sttl  dttl  sloss  dloss service         Sload         Dload  Spkts  Dpkts  swin  dwin  stcpb  dtcpb  smeansz  dmeansz  trans_depth  res_bdy_len     Sjit       Djit       Stime       Ltime  Sintpkt   Dintpkt  tcprtt  synack  ackdat  is_sm_ips_ports  ct_state_ttl  ct_flw_http_mthd  is_ftp_login ct_ftp_cmd  ct_srv_src  ct_srv_dst  ct_dst_ltm  ct_src_ ltm  ct_src_dport_ltm  ct_dst_sport_ltm  ct_dst_src_ltm attack_cat  Label\n",
            "0  59.166.0.0   1390  149.171.126.6     53   udp   CON  0.001055     132     164    31    29      0      0     dns  500473.93750  621800.93750      2      2     0     0      0      0       66       82            0            0  0.00000   0.000000  1421927414  1421927414    0.017  0.013000     0.0     0.0     0.0                0             0               0.0           0.0          0           3           7           1            3                 1                 1               1        NaN      0\n",
            "1  59.166.0.0  33661  149.171.126.9   1024   udp   CON  0.036133     528     304    31    29      0      0       -   87676.08594   50480.17188      4      4     0     0      0      0      132       76            0            0  9.89101  10.682733  1421927414  1421927414    7.005  7.564333     0.0     0.0     0.0                0             0               0.0           0.0          0           2           4           2            3                 1                 1               2        NaN      0\n",
            "2  59.166.0.6   1464  149.171.126.7     53   udp   CON  0.001119     146     178    31    29      0      0     dns  521894.53130  636282.37500      2      2     0     0      0      0       73       89            0            0  0.00000   0.000000  1421927414  1421927414    0.017  0.013000     0.0     0.0     0.0                0             0               0.0           0.0          0          12           8           1            2                 2                 1               1        NaN      0\n",
            "3  59.166.0.5   3593  149.171.126.5     53   udp   CON  0.001209     132     164    31    29      0      0     dns  436724.56250  542597.18750      2      2     0     0      0      0       66       82            0            0  0.00000   0.000000  1421927414  1421927414    0.043  0.014000     0.0     0.0     0.0                0             0               0.0           0.0          0           6           9           1            1                 1                 1               1        NaN      0\n",
            "4  59.166.0.3  49664  149.171.126.0     53   udp   CON  0.001169     146     178    31    29      0      0     dns  499572.25000  609067.56250      2      2     0     0      0      0       73       89            0            0  0.00000   0.000000  1421927414  1421927414    0.005  0.003000     0.0     0.0     0.0                0             0               0.0           0.0          0           7           9           1            1                 1                 1               1        NaN      0\n",
            "====================================================================================================\n",
            "Data Types:\n",
            " srcip                object\n",
            "sport                object\n",
            "dstip                object\n",
            "dsport               object\n",
            "proto                object\n",
            "state                object\n",
            "dur                 float64\n",
            "sbytes                int64\n",
            "dbytes                int64\n",
            "sttl                  int64\n",
            "dttl                  int64\n",
            "sloss                 int64\n",
            "dloss                 int64\n",
            "service              object\n",
            "Sload               float64\n",
            "Dload               float64\n",
            "Spkts                 int64\n",
            "Dpkts                 int64\n",
            "swin                  int64\n",
            "dwin                  int64\n",
            "stcpb                 int64\n",
            "dtcpb                 int64\n",
            "smeansz               int64\n",
            "dmeansz               int64\n",
            "trans_depth           int64\n",
            "res_bdy_len           int64\n",
            "Sjit                float64\n",
            "Djit                float64\n",
            "Stime                 int64\n",
            "Ltime                 int64\n",
            "Sintpkt             float64\n",
            "Dintpkt             float64\n",
            "tcprtt              float64\n",
            "synack              float64\n",
            "ackdat              float64\n",
            "is_sm_ips_ports       int64\n",
            "ct_state_ttl          int64\n",
            "ct_flw_http_mthd    float64\n",
            "is_ftp_login        float64\n",
            "ct_ftp_cmd           object\n",
            "ct_srv_src            int64\n",
            "ct_srv_dst            int64\n",
            "ct_dst_ltm            int64\n",
            "ct_src_ ltm           int64\n",
            "ct_src_dport_ltm      int64\n",
            "ct_dst_sport_ltm      int64\n",
            "ct_dst_src_ltm        int64\n",
            "attack_cat           object\n",
            "Label                 int64\n",
            "dtype: object\n",
            "====================================================================================================\n",
            "Null Data:\n",
            " attack_cat          2218764\n",
            "ct_ftp_cmd          1429879\n",
            "is_ftp_login        1429879\n",
            "ct_flw_http_mthd    1348145\n",
            "Label                     0\n",
            "sloss                     0\n",
            "dwin                      0\n",
            "swin                      0\n",
            "Dpkts                     0\n",
            "Spkts                     0\n",
            "Dload                     0\n",
            "Sload                     0\n",
            "service                   0\n",
            "dloss                     0\n",
            "sttl                      0\n",
            "dttl                      0\n",
            "dtcpb                     0\n",
            "dbytes                    0\n",
            "sbytes                    0\n",
            "dur                       0\n",
            "state                     0\n",
            "proto                     0\n",
            "dsport                    0\n",
            "dstip                     0\n",
            "sport                     0\n",
            "stcpb                     0\n",
            "trans_depth               0\n",
            "smeansz                   0\n",
            "dmeansz                   0\n",
            "ct_dst_src_ltm            0\n",
            "ct_dst_sport_ltm          0\n",
            "ct_src_dport_ltm          0\n",
            "ct_src_ ltm               0\n",
            "ct_dst_ltm                0\n",
            "ct_srv_dst                0\n",
            "ct_srv_src                0\n",
            "ct_state_ttl              0\n",
            "is_sm_ips_ports           0\n",
            "ackdat                    0\n",
            "synack                    0\n",
            "tcprtt                    0\n",
            "Dintpkt                   0\n",
            "Sintpkt                   0\n",
            "Ltime                     0\n",
            "Stime                     0\n",
            "Djit                      0\n",
            "Sjit                      0\n",
            "res_bdy_len               0\n",
            "srcip                     0\n",
            "dtype: int64\n"
          ],
          "name": "stdout"
        }
      ]
    },
    {
      "cell_type": "markdown",
      "metadata": {
        "id": "iq2PEg7HGD2e"
      },
      "source": [
        "## PreProcessing"
      ]
    },
    {
      "cell_type": "code",
      "metadata": {
        "id": "ajHeGun2GF9S",
        "outputId": "f8a93d7c-45eb-4f41-8e5c-ae3aa05f054b",
        "colab": {
          "base_uri": "https://localhost:8080/",
          "height": 50
        }
      },
      "source": [
        "print(Data.shape)\n",
        "Data.drop_duplicates(keep=False,inplace=True) \n",
        "print(Data.shape)"
      ],
      "execution_count": null,
      "outputs": [
        {
          "output_type": "stream",
          "text": [
            "(2540047, 49)\n",
            "(1971209, 49)\n"
          ],
          "name": "stdout"
        }
      ]
    },
    {
      "cell_type": "code",
      "metadata": {
        "id": "S4OT1dhvGayZ"
      },
      "source": [
        "def StrToNum(a):      \n",
        "  try:\n",
        "    return int(a,0)\n",
        "  except:\n",
        "    try:\n",
        "      return float(a)\n",
        "    except:\n",
        "      return a"
      ],
      "execution_count": null,
      "outputs": []
    },
    {
      "cell_type": "code",
      "metadata": {
        "id": "jt7Pol1cJCwD",
        "outputId": "b47f58ca-0cf4-481c-b14b-f939a29af1c1",
        "colab": {
          "base_uri": "https://localhost:8080/",
          "height": 34
        }
      },
      "source": [
        "StrList=[j for i,j,k in zip(Data.dtypes,features.iloc[:,1],features.iloc[:,2])\n",
        "if (i==('object'))and(k==('integer'or 'Float'))]\n",
        "print(StrList)"
      ],
      "execution_count": null,
      "outputs": [
        {
          "output_type": "stream",
          "text": [
            "['sport', 'dsport', 'ct_ftp_cmd']\n"
          ],
          "name": "stdout"
        }
      ]
    },
    {
      "cell_type": "code",
      "metadata": {
        "id": "PTx6YognHKZW",
        "outputId": "cdfcaa61-0ce5-4687-caf5-0eb40fd37e96",
        "colab": {
          "base_uri": "https://localhost:8080/",
          "height": 67
        }
      },
      "source": [
        "StrDict={col:[[i,j] for i,j in enumerate(Data[col]) if type(j)==str]\n",
        "\t for col in StrList}\n",
        "for col in StrList:\n",
        "  print(len(StrDict[col]))\n"
      ],
      "execution_count": null,
      "outputs": [
        {
          "output_type": "stream",
          "text": [
            "52417\n",
            "1111321\n",
            "31243\n"
          ],
          "name": "stdout"
        }
      ]
    },
    {
      "cell_type": "code",
      "metadata": {
        "id": "HLguRoNV8fvp"
      },
      "source": [
        "for col in StrList:\n",
        "  Data[col]=Data[col].map(StrToNum)"
      ],
      "execution_count": null,
      "outputs": []
    },
    {
      "cell_type": "code",
      "metadata": {
        "id": "dL7YMEOXWCrr",
        "outputId": "30369807-e5f4-4b06-9e97-c8ad7c8e53ad",
        "colab": {
          "base_uri": "https://localhost:8080/",
          "height": 67
        }
      },
      "source": [
        "StrDict={col:[[i,j] for i,j in enumerate(Data[col]) if type(j)==str] for col in StrList}\n",
        "for col in StrList:\n",
        "  print(len(StrDict[col]))\n"
      ],
      "execution_count": null,
      "outputs": [
        {
          "output_type": "stream",
          "text": [
            "2\n",
            "7\n",
            "0\n"
          ],
          "name": "stdout"
        }
      ]
    },
    {
      "cell_type": "code",
      "metadata": {
        "id": "UHTAexRL3bmP",
        "outputId": "c5c92a1c-9b76-4047-dbe9-0a115b4af4b1",
        "colab": {
          "base_uri": "https://localhost:8080/",
          "height": 118
        }
      },
      "source": [
        "for col in StrDict.keys():\n",
        "  print(np.unique(StrDict[col]))\n",
        "  print(100*'=')"
      ],
      "execution_count": null,
      "outputs": [
        {
          "output_type": "stream",
          "text": [
            "['-' '125776' '78808']\n",
            "====================================================================================================\n",
            "['-' '104770' '122414' '34983' '44021' '44023' '45465' '70198']\n",
            "====================================================================================================\n",
            "[]\n",
            "====================================================================================================\n"
          ],
          "name": "stdout"
        }
      ]
    },
    {
      "cell_type": "code",
      "metadata": {
        "id": "pMHPezLY7CuH"
      },
      "source": [
        "Data[StrList]=Data[StrList].replace('-',np.nan,regex=True)"
      ],
      "execution_count": null,
      "outputs": []
    },
    {
      "cell_type": "code",
      "metadata": {
        "id": "A4B2BsUiDm7G",
        "outputId": "bb6c3d83-1e10-40bc-e65f-3f03ab43a234",
        "colab": {
          "base_uri": "https://localhost:8080/",
          "height": 67
        }
      },
      "source": [
        "StrDict={col:[[i,j] for i,j in enumerate(Data[col]) if type(j)==str] for col in StrList}\n",
        "for col in StrList:\n",
        "  print(len(StrDict[col]))"
      ],
      "execution_count": null,
      "outputs": [
        {
          "output_type": "stream",
          "text": [
            "2\n",
            "7\n",
            "0\n"
          ],
          "name": "stdout"
        }
      ]
    },
    {
      "cell_type": "markdown",
      "metadata": {
        "id": "aCJ2J7NCYvcW"
      },
      "source": [
        "## Save The Data"
      ]
    },
    {
      "cell_type": "code",
      "metadata": {
        "id": "Sgj-NszFYskR"
      },
      "source": [
        "#os.makedirs('/content/drive/My Drive/ML/02 Results' , exist_ok = False)"
      ],
      "execution_count": null,
      "outputs": []
    },
    {
      "cell_type": "code",
      "metadata": {
        "id": "M90fKfhWZP7H"
      },
      "source": [
        "#Data.to_csv('/content/drive/My Drive/ML/02 Results/tot_Data.csv',index=False)"
      ],
      "execution_count": null,
      "outputs": []
    },
    {
      "cell_type": "markdown",
      "metadata": {
        "id": "ApA7MEfBOHT7"
      },
      "source": [
        "## Split The Data"
      ]
    },
    {
      "cell_type": "code",
      "metadata": {
        "id": "kl_ooBPLDoui",
        "outputId": "f5b4bd28-fc83-46ca-946f-5fe4ad607972",
        "colab": {
          "base_uri": "https://localhost:8080/",
          "height": 151
        }
      },
      "source": [
        "#%%Split The Data\n",
        "y=Data['Label']\n",
        "x=Data.drop(['Label','attack_cat'],axis=1)\n",
        "x_train, x_test, y_train, y_test  = train_test_split(x, y, test_size=0.2, random_state=2)\n",
        "x_train.reset_index(inplace=True,drop=True)\n",
        "x_test.reset_index(inplace=True,drop=True)\n",
        "print('x_train shape:\\n',x_train.shape)\n",
        "print('y_train shape:\\n',y_train.shape)\n",
        "print('x_test shape:\\n',x_test.shape)\n",
        "print('y_test  shape:\\n',y_test .shape)\n",
        "del x,y,Data"
      ],
      "execution_count": null,
      "outputs": [
        {
          "output_type": "stream",
          "text": [
            "x_train shape:\n",
            " (1576967, 47)\n",
            "y_train shape:\n",
            " (1576967,)\n",
            "x_test shape:\n",
            " (394242, 47)\n",
            "y_test  shape:\n",
            " (394242,)\n"
          ],
          "name": "stdout"
        }
      ]
    },
    {
      "cell_type": "markdown",
      "metadata": {
        "id": "GydjvrvoRope"
      },
      "source": [
        "## Cleaning The Data"
      ]
    },
    {
      "cell_type": "code",
      "metadata": {
        "id": "oEbnwNzlPZvY",
        "outputId": "752d087a-3566-4749-e1db-78225c0f7673",
        "colab": {
          "base_uri": "https://localhost:8080/",
          "height": 185
        }
      },
      "source": [
        "#%%Cleanning the Data\n",
        "print(x_train.isnull().sum().sort_values(ascending=False,inplace=False).head(8))\n",
        "print(100*'=')"
      ],
      "execution_count": null,
      "outputs": [
        {
          "output_type": "stream",
          "text": [
            "ct_ftp_cmd          771646\n",
            "is_ftp_login        771646\n",
            "ct_flw_http_mthd    708012\n",
            "dsport                   6\n",
            "sport                    2\n",
            "ct_dst_src_ltm           0\n",
            "sloss                    0\n",
            "dwin                     0\n",
            "dtype: int64\n",
            "====================================================================================================\n"
          ],
          "name": "stdout"
        }
      ]
    },
    {
      "cell_type": "code",
      "metadata": {
        "id": "GXQH8WMfRseg",
        "outputId": "12c66e83-d25a-498f-a567-1bf4fd02789f",
        "colab": {
          "base_uri": "https://localhost:8080/",
          "height": 50
        }
      },
      "source": [
        "NanColsNames=x_train.columns[x_train.isnull().any()]\n",
        "num=x_train[NanColsNames]._get_numeric_data().columns #numeric data columns names\n",
        "cat=x_train[NanColsNames].select_dtypes(include=['object']).columns#categorical data columns names\n",
        "print(len(num),'\\n',len(cat))\n"
      ],
      "execution_count": null,
      "outputs": [
        {
          "output_type": "stream",
          "text": [
            "5 \n",
            " 0\n"
          ],
          "name": "stdout"
        }
      ]
    },
    {
      "cell_type": "code",
      "metadata": {
        "id": "HcJgGXTIShN_"
      },
      "source": [
        "\n",
        "SIn=SimpleImputer(missing_values=np.nan, strategy='mean')#replace nan values with the colum mean\n",
        "SIn.fit(x_train[num])\n",
        "x_train[num]=pd.DataFrame(SIn.transform(x_train[num]),columns=num) #transform\n",
        "x_test[num]=pd.DataFrame(SIn.transform(x_test[num]),columns=num)\n"
      ],
      "execution_count": null,
      "outputs": []
    },
    {
      "cell_type": "code",
      "metadata": {
        "id": "7K-uyL1eTSoE",
        "outputId": "8176fd9f-e04a-46d3-b04a-049397ec19f6",
        "colab": {
          "base_uri": "https://localhost:8080/",
          "height": 235
        }
      },
      "source": [
        "print(x_train.isnull().sum().sort_values(ascending=False,inplace=False).head())\n",
        "print(100*'=')\n",
        "print(x_test.isnull().sum().sort_values(ascending=False,inplace=False).head())\n"
      ],
      "execution_count": null,
      "outputs": [
        {
          "output_type": "stream",
          "text": [
            "ct_dst_src_ltm    0\n",
            "sloss             0\n",
            "stcpb             0\n",
            "dwin              0\n",
            "swin              0\n",
            "dtype: int64\n",
            "====================================================================================================\n",
            "ct_dst_src_ltm    0\n",
            "sloss             0\n",
            "stcpb             0\n",
            "dwin              0\n",
            "swin              0\n",
            "dtype: int64\n"
          ],
          "name": "stdout"
        }
      ]
    },
    {
      "cell_type": "markdown",
      "metadata": {
        "id": "uVYjfqZ-VOO3"
      },
      "source": [
        "## Categorical Encoding"
      ]
    },
    {
      "cell_type": "code",
      "metadata": {
        "id": "7gEalnjmVfrb"
      },
      "source": [
        "x_train=pd.get_dummies(x_train)\n",
        "x_test=pd.get_dummies(x_test)\n",
        "missed_features=set(x_train.columns)-set(x_test.columns)\n",
        "\n",
        "for i in missed_features:\n",
        "    x_test[i]=0\n",
        "\n",
        "missed_features=set(x_test.columns)-set(x_train.columns)\n",
        "\n",
        "for i in missed_features:\n",
        "    x_test=x_test.drop(i,axis=1)    \n",
        "\n",
        "num=x_train._get_numeric_data().columns\n",
        "cat=set(x_train.columns)-set(num)\n",
        "\n",
        "x_train = x_train.reindex(sorted(x_train.columns), axis=1)#sort the data again \n",
        "x_test = x_test.reindex(sorted(x_test.columns), axis=1)\n"
      ],
      "execution_count": null,
      "outputs": []
    },
    {
      "cell_type": "code",
      "metadata": {
        "id": "2-LBPV44VuYV",
        "outputId": "c884b15d-e4a2-4cd3-aed9-7234716dc0b1",
        "colab": {
          "base_uri": "https://localhost:8080/",
          "height": 84
        }
      },
      "source": [
        "print(x_train.shape)\n",
        "print(x_test.shape)\n",
        "print('object' in x_train.dtypes.values)\n",
        "print('object' in x_test.dtypes.values)"
      ],
      "execution_count": null,
      "outputs": [
        {
          "output_type": "stream",
          "text": [
            "(1576967, 295)\n",
            "(394242, 295)\n",
            "False\n",
            "False\n"
          ],
          "name": "stdout"
        }
      ]
    },
    {
      "cell_type": "markdown",
      "metadata": {
        "id": "tJeAZx_aWxU5"
      },
      "source": [
        "## Feature Selection"
      ]
    },
    {
      "cell_type": "code",
      "metadata": {
        "id": "EyYOvMrzWz5l",
        "outputId": "107904ba-8d15-42f7-ae05-cd4a931bdf7c",
        "colab": {
          "base_uri": "https://localhost:8080/",
          "height": 34
        }
      },
      "source": [
        "#%%feature selection\n",
        "k=47\n",
        "SP=SelectKBest(score_func=chi2,k=k)\n",
        "SP.fit(x_train,y_train)\n",
        "\n"
      ],
      "execution_count": null,
      "outputs": [
        {
          "output_type": "execute_result",
          "data": {
            "text/plain": [
              "SelectKBest(k=47, score_func=<function chi2 at 0x7fd35aafd1e0>)"
            ]
          },
          "metadata": {
            "tags": []
          },
          "execution_count": 47
        }
      ]
    },
    {
      "cell_type": "code",
      "metadata": {
        "id": "FiLSs06HamGE",
        "outputId": "b16dbc64-60d5-40ba-b867-1373b68dfbd2",
        "colab": {
          "base_uri": "https://localhost:8080/",
          "height": 34
        }
      },
      "source": [
        "f=SP.get_support() # get the remaining columns from feature selection\n",
        "columns=x_train.columns[f]\n",
        "print(len(columns))#k\n"
      ],
      "execution_count": null,
      "outputs": [
        {
          "output_type": "stream",
          "text": [
            "47\n"
          ],
          "name": "stdout"
        }
      ]
    },
    {
      "cell_type": "code",
      "metadata": {
        "id": "-bQ9nDThXRfH"
      },
      "source": [
        "x_train=pd.DataFrame(SP.transform(x_train),columns=columns)\n",
        "x_test=pd.DataFrame(SP.transform(x_test),columns=columns)\n",
        "\n",
        "x_train = x_train.reindex(sorted(x_train.columns), axis=1)\n",
        "x_test = x_test.reindex(sorted(x_test.columns), axis=1)\n"
      ],
      "execution_count": null,
      "outputs": []
    },
    {
      "cell_type": "code",
      "metadata": {
        "id": "HUtn37CdXlbW"
      },
      "source": [
        ""
      ],
      "execution_count": null,
      "outputs": []
    },
    {
      "cell_type": "markdown",
      "metadata": {
        "id": "NUPpI9Lva-wR"
      },
      "source": [
        "## Normalization"
      ]
    },
    {
      "cell_type": "code",
      "metadata": {
        "id": "4XLRLuFqbCOP"
      },
      "source": [
        "\n",
        "columns=x_train.columns\n",
        "SS=StandardScaler(copy=True, with_mean=True, with_std=True)\n",
        "SS.fit(x_train)\n",
        "\n",
        "x_train=pd.DataFrame(SS.transform(x_train),columns=columns)\n",
        "x_test=pd.DataFrame(SS.transform(x_test),columns=columns)"
      ],
      "execution_count": null,
      "outputs": []
    },
    {
      "cell_type": "code",
      "metadata": {
        "id": "ijr1NoVpbY6m",
        "outputId": "ce2f9f0c-e39a-44b6-d765-0b3721557d1a",
        "colab": {
          "base_uri": "https://localhost:8080/",
          "height": 205
        }
      },
      "source": [
        "print(\n",
        "x_train.agg(['max','min','std','mean']),'\\n', \n",
        "x_test.agg(['max','min','std','mean']) \n",
        ")"
      ],
      "execution_count": null,
      "outputs": [
        {
          "output_type": "stream",
          "text": [
            "           Dintpkt          Djit         Dload         Dpkts         Ltime       Sintpkt          Sjit         Sload         Spkts         Stime        ackdat    ct_dst_ltm    ct_srv_dst    ct_srv_src  ct_state_ttl        dbytes         dloss       dmeansz        dsport  dstip_149.171.126.10  dstip_149.171.126.11  dstip_149.171.126.12  dstip_149.171.126.13  dstip_149.171.126.14  dstip_149.171.126.15  dstip_149.171.126.16  dstip_149.171.126.17  dstip_149.171.126.18  dstip_149.171.126.19         dtcpb          dttl           dur    proto_unas   res_bdy_len        sbytes  service_pop3         sloss       smeansz         sport  srcip_175.45.176.0  srcip_175.45.176.1  srcip_175.45.176.2  srcip_175.45.176.3     state_INT         stcpb          sttl        tcprtt\n",
            "max   6.311241e+01  2.592689e+02  2.778130e+01  8.558914e+01  1.017763e+00  4.907015e+01  1.585119e+02  9.147994e+01  1.266483e+02  1.017763e+00  2.077777e+02  1.981695e+01  1.579756e+01  1.475701e+01  1.536775e+01  8.530219e+01  9.140516e+01  3.417920e+00  8.875027e+02          1.345335e+01          1.296789e+01          1.484452e+01          1.269078e+01          1.362193e+01          1.349177e+01          1.347605e+01          1.239007e+01          1.493428e+01          1.365772e+01  1.925548e+00  5.056141e+00  2.145975e+01  2.784002e+01  1.225614e+02  2.234591e+02  3.722841e+01  2.099559e+02  8.244993e+00  1.717644e+00        8.461739e+00        8.420171e+00        8.871821e+00        8.257326e+00  8.015117e+00  1.923454e+00  4.744339e+00  1.975413e+02\n",
            "min  -4.498179e-02 -2.784266e-01 -6.737663e-01 -3.972084e-01 -1.019695e+00 -4.993020e-02 -1.871291e-01 -8.444992e-02 -4.923429e-01 -1.019723e+00 -1.265593e-01 -1.055266e+00 -9.901894e-01 -9.904335e-01 -2.022013e-01 -2.495541e-01 -3.221370e-01 -9.976162e-01 -2.408439e-02         -7.433091e-02         -7.711355e-02         -6.736493e-02         -7.879734e-02         -7.341102e-02         -7.411928e-02         -7.420573e-02         -8.070983e-02         -6.696003e-02         -7.321868e-02 -1.083893e+00 -8.618518e-01 -2.129790e-01 -3.591952e-02 -9.976527e-02 -8.507263e-02 -2.686121e-02 -2.583434e-01 -7.877165e-01 -1.707759e+00       -1.181790e-01       -1.187624e-01       -1.127164e-01       -1.211046e-01 -1.247642e-01 -1.084061e+00 -9.045527e-01 -1.414541e-01\n",
            "std   1.000000e+00  1.000000e+00  1.000000e+00  1.000000e+00  1.000000e+00  1.000000e+00  1.000000e+00  1.000000e+00  1.000000e+00  1.000000e+00  1.000000e+00  1.000000e+00  1.000000e+00  1.000000e+00  1.000000e+00  1.000000e+00  1.000000e+00  1.000000e+00  1.000000e+00          1.000000e+00          1.000000e+00          1.000000e+00          1.000000e+00          1.000000e+00          1.000000e+00          1.000000e+00          1.000000e+00          1.000000e+00          1.000000e+00  1.000000e+00  1.000000e+00  1.000000e+00  1.000000e+00  1.000000e+00  1.000000e+00  1.000000e+00  1.000000e+00  1.000000e+00  1.000000e+00        1.000000e+00        1.000000e+00        1.000000e+00        1.000000e+00  1.000000e+00  1.000000e+00  1.000000e+00  1.000000e+00\n",
            "mean -2.865931e-16  3.395555e-15 -2.724983e-16  4.131277e-16 -2.227343e-14  3.670545e-15 -1.562448e-15  8.695839e-17 -2.265291e-15  2.480915e-14 -1.246256e-16 -1.910380e-15 -1.359629e-15 -1.395288e-15  5.075273e-15  3.400507e-16  9.979806e-16 -4.277359e-17  6.091508e-15          2.569879e-14          1.443208e-14          1.050369e-15         -4.359132e-15          1.967973e-14         -9.263518e-16         -5.761811e-15          2.654004e-14         -4.330716e-14          3.869926e-15  5.651217e-15 -4.414226e-15  2.881247e-17  1.186882e-14  3.370518e-15 -7.482243e-16  8.413903e-15 -1.078611e-15 -2.316340e-15  1.246745e-16       -1.664292e-14        2.838657e-15       -3.129565e-15       -8.823094e-15  7.002616e-17  1.926903e-15  2.964429e-15  5.535071e-16 \n",
            "         Dintpkt        Djit     Dload      Dpkts     Ltime    Sintpkt        Sjit      Sload       Spkts     Stime      ackdat  ct_dst_ltm  ct_srv_dst  ct_srv_src  ct_state_ttl     dbytes      dloss   dmeansz    dsport  dstip_149.171.126.10  dstip_149.171.126.11  dstip_149.171.126.12  dstip_149.171.126.13  dstip_149.171.126.14  dstip_149.171.126.15  dstip_149.171.126.16  dstip_149.171.126.17  dstip_149.171.126.18  dstip_149.171.126.19     dtcpb      dttl        dur  proto_unas  res_bdy_len      sbytes  service_pop3       sloss   smeansz     sport  srcip_175.45.176.0  srcip_175.45.176.1  srcip_175.45.176.2  srcip_175.45.176.3  state_INT     stcpb      sttl      tcprtt\n",
            "max   56.779250  185.863996  4.492668  72.540570  1.017763  34.887169  129.569838  80.653687  132.207617  1.017763  121.317512   19.372856   15.264611   14.507046     15.367749  72.257924  77.496990  3.417920  0.083829             13.453354             12.967890             14.844520             12.690784             13.621934             13.491766             13.476048             12.390065             14.934283             13.657717  1.925550  5.056141  21.459615   27.840015    97.962495  234.546576     37.228407  219.154809  8.244993  1.717644            8.461739            8.420171            8.871821            8.257326   8.015117  1.923447  4.744339  102.588269\n",
            "min   -0.044982   -0.278427 -0.673766  -0.397208 -1.019695  -0.049930   -0.187129  -0.084450   -0.492343 -1.019694   -0.126559   -1.055266   -0.990189   -0.990434     -0.202201  -0.249554  -0.322137 -0.997616 -0.024084             -0.074331             -0.077114             -0.067365             -0.078797             -0.073411             -0.074119             -0.074206             -0.080710             -0.066960             -0.073219 -1.083893 -0.861852  -0.212979   -0.035920    -0.099765   -0.085073     -0.026861   -0.258343 -0.787716 -1.707759           -0.118179           -0.118762           -0.112716           -0.121105  -0.124764 -1.084061 -0.904553   -0.141454\n",
            "std    1.013302    0.938819  0.999092   0.984103  1.000015   1.081808    0.840394   0.968943    1.048074  1.000015    0.990280    1.002717    1.004591    1.002072      1.006455   0.982754   0.981132  0.999969  0.032251              0.996494              0.999894              0.994396              1.000052              1.000648              1.012388              0.982103              1.011517              1.035358              1.008891  1.001319  1.008105   1.005645    0.962940     0.971707    1.144854      1.049316    1.129380  0.999236  1.000314            0.979325            1.006697            1.016427            1.013009   1.002381  0.998955  1.002675    1.007101\n",
            "mean  -0.000193   -0.001086 -0.001045  -0.000962  0.001524   0.004644   -0.002109  -0.001603    0.000256  0.001524    0.001277    0.001192   -0.000796   -0.000600      0.001979  -0.001147  -0.001155 -0.001443 -0.001155             -0.000523             -0.000017             -0.000757              0.000008              0.000095              0.001858             -0.002647              0.001882              0.004842              0.001315  0.003055  0.003257   0.000252   -0.002616    -0.002130    0.000967      0.002717    0.001178 -0.000277  0.000487           -0.004902            0.001619            0.003783            0.003220   0.000604 -0.000168  0.001171    0.001722\n"
          ],
          "name": "stdout"
        }
      ]
    },
    {
      "cell_type": "markdown",
      "metadata": {
        "id": "RrLTDY86pN5i"
      },
      "source": [
        "## Model"
      ]
    },
    {
      "cell_type": "code",
      "metadata": {
        "id": "KqV5Og83efO0",
        "outputId": "d3f4827f-4045-43c5-b45b-2d9ed3eaed59",
        "colab": {
          "base_uri": "https://localhost:8080/",
          "height": 54
        }
      },
      "source": [
        "input_layer= Input(shape=(x_train.shape[1]))\n",
        "x=Dense(32,'relu')(input_layer)\n",
        "x=Dropout(0.2)(x)\n",
        "x=Dense(16,'relu')(x)\n",
        "x=Dropout(0.2)(x)\n",
        "x=Dense(1,'sigmoid')(x)\n",
        "\n",
        "model = Model(inputs=input_layer, outputs=x)\n",
        "model.compile(optimizer ='adam',\n",
        "  loss='binary_crossentropy',\n",
        "  metrics=['accuracy'])\n",
        "hist=model.fit(np.array(x_train), np.array(y_train), epochs=1,\n",
        "          validation_data=(np.array(x_test), np.array(y_test)))"
      ],
      "execution_count": null,
      "outputs": [
        {
          "output_type": "stream",
          "text": [
            "49281/49281 [==============================] - 143s 3ms/step - loss: 0.0268 - accuracy: 0.9869 - val_loss: 0.0214 - val_accuracy: 0.9890\n"
          ],
          "name": "stdout"
        }
      ]
    },
    {
      "cell_type": "code",
      "metadata": {
        "id": "J7HJuhkKgliW"
      },
      "source": [
        ""
      ],
      "execution_count": null,
      "outputs": []
    }
  ]
}