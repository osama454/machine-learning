{
 "cells": [
  {
   "cell_type": "code",
   "execution_count": 1,
   "metadata": {},
   "outputs": [
    {
     "name": "stderr",
     "output_type": "stream",
     "text": [
      "D:\\Machine_learning\\anaconda\\lib\\site-packages\\sklearn\\utils\\deprecation.py:144: FutureWarning: The sklearn.ensemble.gradient_boosting module is  deprecated in version 0.22 and will be removed in version 0.24. The corresponding classes / functions should instead be imported from sklearn.ensemble. Anything that cannot be imported from sklearn.ensemble is now part of the private API.\n",
      "  warnings.warn(message, FutureWarning)\n"
     ]
    }
   ],
   "source": [
    "#%%import libraries\n",
    "import numpy as np\n",
    "np.set_printoptions(threshold=np.inf) \n",
    "np.core.arrayprint._line_width=np.inf\n",
    "\n",
    "import pandas as pd\n",
    "pd.set_option('display.max_columns', 500)\n",
    "pd.set_option('display.max_rows', 300)\n",
    "pd.set_option('display.width', 100000)\n",
    "\n",
    "import os\n",
    "import shutil\n",
    "import glob\n",
    "\n",
    "import sklearn  \n",
    "from sklearn.ensemble.gradient_boosting import train_test_split\n",
    "from sklearn.impute import SimpleImputer\n",
    "from sklearn.feature_selection import SelectKBest,f_classif,chi2\n",
    "from sklearn.preprocessing import StandardScaler\n",
    "\n",
    "import tensorflow as tf\n",
    "from tensorflow.keras.models import Model\n",
    "from tensorflow.keras.layers import ( Dense, Dropout,Input)\n",
    "from tensorflow.keras.models import load_model\n",
    "\n",
    "import pickle\n",
    "\n",
    "import warnings\n",
    "warnings.filterwarnings(\"ignore\")\n",
    "\n",
    "#%%Read Data"
   ]
  },
  {
   "cell_type": "code",
   "execution_count": 3,
   "metadata": {},
   "outputs": [],
   "source": [
    "x_train=pd.read_csv(r'E:\\01-GP\\06-DeepLearning_part\\00-Trainig_Testing_Data\\Results\\x_train.csv')\n",
    "y_train=pd.read_csv(r'E:\\01-GP\\06-DeepLearning_part\\00-Trainig_Testing_Data\\Results\\y_train.csv')\n",
    "x_test=pd.read_csv(r'E:\\01-GP\\06-DeepLearning_part\\00-Trainig_Testing_Data\\Results\\x_test.csv')\n",
    "y_test=pd.read_csv(r'E:\\01-GP\\06-DeepLearning_part\\00-Trainig_Testing_Data\\Results\\y_test.csv')\n"
   ]
  },
  {
   "cell_type": "code",
   "execution_count": 7,
   "metadata": {
    "scrolled": true
   },
   "outputs": [
    {
     "name": "stdout",
     "output_type": "stream",
     "text": [
      "LogisticRegressionModel Train Score is :  0.9865793006448454\n",
      "LogisticRegressionModel Test Score is :  0.9866680871140061\n",
      "LogisticRegressionModel Classes are :  [0 1]\n",
      "LogisticRegressionModel No. of iteratios is :  [100]\n",
      "----------------------------------------------------\n",
      "Predicted Value for LogisticRegressionModel is :  [0 1 1 0 0 0 0 0 0 1]\n",
      "Prediction Probabilities Value for LogisticRegressionModel is :  [[9.98984767e-01 1.01523339e-03]\n",
      " [1.79853988e-01 8.20146012e-01]\n",
      " [3.15850250e-01 6.84149750e-01]\n",
      " [9.98222994e-01 1.77700573e-03]\n",
      " [9.98571604e-01 1.42839634e-03]\n",
      " [9.99216889e-01 7.83110511e-04]\n",
      " [9.98365901e-01 1.63409896e-03]\n",
      " [9.98603674e-01 1.39632606e-03]\n",
      " [9.98427387e-01 1.57261289e-03]\n",
      " [2.10973852e-01 7.89026148e-01]]\n",
      "Confusion Matrix is : \n",
      " [[375544   4269]\n",
      " [   987  13442]]\n"
     ]
    },
    {
     "data": {
      "image/png": "[encoded data removed]",
      "text/plain": [
       "<Figure size 432x288 with 2 Axes>"
      ]
     },
     "metadata": {
      "needs_background": "light"
     },
     "output_type": "display_data"
    },
    {
     "name": "stdout",
     "output_type": "stream",
     "text": [
      "====================================================\n"
     ]
    }
   ],
   "source": [
    "#Import Libraries\n",
    "from sklearn.datasets import load_iris\n",
    "from sklearn.model_selection import train_test_split\n",
    "from sklearn.linear_model import LogisticRegression\n",
    "from sklearn.metrics import confusion_matrix\n",
    "import seaborn as sns\n",
    "import matplotlib.pyplot as plt\n",
    "from sklearn.svm import SVC\n",
    "#----------------------------------------------------\n",
    "\n",
    "'''\n",
    "#linear_model.LogisticRegression(penalty='l2’,dual=False,tol=0.0001,C=1.0,fit_intercept=True,intercept_scaling=1,\n",
    "#                                class_weight=None,random_state=None,solver='warn’,max_iter=100,\n",
    "#                                multi_class='warn’, verbose=0,warm_start=False, n_jobs=None)\n",
    "'''\n",
    "\n",
    "LogisticRegressionModel = LogisticRegression(penalty='l2',solver='sag',random_state=33)\n",
    "LogisticRegressionModel.fit(x_train, y_train)\n",
    "\n",
    "#Calculating Details\n",
    "print('LogisticRegressionModel Train Score is : ' , LogisticRegressionModel.score(x_train, y_train))\n",
    "print('LogisticRegressionModel Test Score is : ' , LogisticRegressionModel.score(x_test, y_test))\n",
    "print('LogisticRegressionModel Classes are : ' , LogisticRegressionModel.classes_)\n",
    "print('LogisticRegressionModel No. of iteratios is : ' , LogisticRegressionModel.n_iter_)\n",
    "print('----------------------------------------------------')\n",
    "\n",
    "#Calculating Prediction\n",
    "y_pred = LogisticRegressionModel.predict(x_test)\n",
    "y_pred_prob = LogisticRegressionModel.predict_proba(x_test)\n",
    "print('Predicted Value for LogisticRegressionModel is : ' , y_pred[:10])\n",
    "print('Prediction Probabilities Value for LogisticRegressionModel is : ' , y_pred_prob[:10])\n",
    "\n",
    "#----------------------------------------------------\n",
    "#Calculating Confusion Matrix\n",
    "CM = confusion_matrix(y_test, y_pred)\n",
    "print('Confusion Matrix is : \\n', CM)\n",
    "\n",
    "# drawing confusion matrix\n",
    "sns.heatmap(CM, center = True)\n",
    "plt.show()\n",
    "\n",
    "\n",
    "print('====================================================')\n"
   ]
  },
  {
   "cell_type": "code",
   "execution_count": 9,
   "metadata": {},
   "outputs": [
    {
     "name": "stdout",
     "output_type": "stream",
     "text": [
      "SVCModel Train Score is :  0.9642535322552723\n",
      "SVCModel Test Score is :  0.9637938119226263\n",
      "----------------------------------------------------\n",
      "Predicted Value for SVCModel is :  [0 0 0 0 0 0 0 0 0 0]\n",
      "Confusion Matrix is : \n",
      " [[379754     59]\n",
      " [ 14215    214]]\n"
     ]
    },
    {
     "data": {
      "image/png": "[encoded data removed]",
      "text/plain": [
       "<Figure size 432x288 with 2 Axes>"
      ]
     },
     "metadata": {
      "needs_background": "light"
     },
     "output_type": "display_data"
    }
   ],
   "source": [
    "\n",
    "#----------------------------------------------------\n",
    "#Applying SVC Model \n",
    "\n",
    "'''\n",
    "sklearn.svm.SVC(C=1.0, kernel=’rbf’, degree=3, gamma=’auto_deprecated’, coef0=0.0, shrinking=True,\n",
    "                probability=False, tol=0.001, cache_size=200, class_weight=None,verbose=False,\n",
    "                max_iter=-1, decision_function_shape='ovr’, random_state=None)\n",
    "'''\n",
    "\n",
    "SVCModel = SVC(kernel= 'rbf',# it can be also linear,poly,sigmoid,precomputed\n",
    "               max_iter=100,C=1.0,gamma='auto')\n",
    "SVCModel.fit(x_train, y_train)\n",
    "\n",
    "#Calculating Details\n",
    "print('SVCModel Train Score is : ' , SVCModel.score(x_train, y_train))\n",
    "print('SVCModel Test Score is : ' , SVCModel.score(x_test, y_test))\n",
    "print('----------------------------------------------------')\n",
    "\n",
    "#Calculating Prediction\n",
    "y_pred = SVCModel.predict(x_test)\n",
    "print('Predicted Value for SVCModel is : ' , y_pred[:10])\n",
    "\n",
    "#----------------------------------------------------\n",
    "#Calculating Confusion Matrix\n",
    "CM = confusion_matrix(y_test, y_pred)\n",
    "print('Confusion Matrix is : \\n', CM)\n",
    "\n",
    "# drawing confusion matrix\n",
    "sns.heatmap(CM, center = True)\n",
    "plt.show()\n",
    "#----------------------------------------------------\n"
   ]
  },
  {
   "cell_type": "code",
   "execution_count": 11,
   "metadata": {},
   "outputs": [
    {
     "name": "stdout",
     "output_type": "stream",
     "text": [
      "49281/49281 [==============================] - 162s 3ms/step - loss: 0.0253 - accuracy: 0.9882 - val_loss: 0.0213 - val_accuracy: 0.9892\n"
     ]
    }
   ],
   "source": [
    "input_layer= Input(shape=(x_train.shape[1]))\n",
    "x=Dense(16,'relu')(input_layer)\n",
    "x=Dense(1,'sigmoid')(x)\n",
    "\n",
    "model = Model(inputs=input_layer, outputs=x)\n",
    "model.compile(optimizer ='adam',\n",
    "  loss='binary_crossentropy',\n",
    "  metrics=['accuracy'])\n",
    "hist=model.fit(np.array(x_train), np.array(y_train), epochs=1,\n",
    "          validation_data=(np.array(x_test), np.array(y_test)))\n"
   ]
  },
  {
   "cell_type": "code",
   "execution_count": null,
   "metadata": {},
   "outputs": [],
   "source": []
  }
 ],
 "metadata": {
  "kernelspec": {
   "display_name": "Python 3",
   "language": "python",
   "name": "python3"
  },
  "language_info": {
   "codemirror_mode": {
    "name": "ipython",
    "version": 3
   },
   "file_extension": ".py",
   "mimetype": "text/x-python",
   "name": "python",
   "nbconvert_exporter": "python",
   "pygments_lexer": "ipython3",
   "version": "3.7.6"
  }
 },
 "nbformat": 4,
 "nbformat_minor": 4
}
