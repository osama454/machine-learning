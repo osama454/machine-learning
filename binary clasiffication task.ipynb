{
  "nbformat": 4,
  "nbformat_minor": 0,
  "metadata": {
    "colab": {
      "name": "Untitled0.ipynb",
      "provenance": [],
      "collapsed_sections": []
    },
    "kernelspec": {
      "name": "python3",
      "display_name": "Python 3"
    },
    "accelerator": "GPU"
  },
  "cells": [
    {
      "cell_type": "code",
      "metadata": {
        "id": "0jl0LHshf6od",
        "colab_type": "code",
        "colab": {}
      },
      "source": [
        "import sklearn\n",
        "import pandas as pd\n",
        "from sklearn.impute import SimpleImputer\n",
        "import numpy as np\n",
        "from sklearn.preprocessing import StandardScaler\n",
        "from sklearn.feature_selection import SelectKBest,f_classif\n",
        "import tensorflow as tf\n",
        "from tensorflow.keras.models import Model\n",
        "from tensorflow.keras.layers import ( Dense, Dropout,Input)\n",
        "from tensorflow.keras.models import load_model\n",
        "import warnings\n",
        "warnings.filterwarnings(\"ignore\")"
      ],
      "execution_count": 1,
      "outputs": []
    },
    {
      "cell_type": "code",
      "metadata": {
        "id": "J6lsTIrFH7TT",
        "colab_type": "code",
        "colab": {}
      },
      "source": [
        "#%% convert ',' to '.' in the csv files\n",
        "f = open(\"training.csv\", \"r\")\n",
        "string=f.read()\n",
        "f.close()\n",
        "\n",
        "string=string.replace(',','.')\n",
        "\n",
        "f = open(\"training.csv\", \"w\")\n",
        "f.write(string)\n",
        "f.close()\n",
        "\n",
        "f = open(\"validation.csv\", \"r\")\n",
        "string=f.read()\n",
        "f.close()\n",
        "\n",
        "string=string.replace(',','.')\n",
        "\n",
        "f = open(\"validation.csv\", \"w\")\n",
        "f.write(string)\n",
        "f.close()\n"
      ],
      "execution_count": 2,
      "outputs": []
    },
    {
      "cell_type": "code",
      "metadata": {
        "id": "U8I2q91yIA3W",
        "colab_type": "code",
        "colab": {}
      },
      "source": [
        "#%%reading data\n",
        "train = pd.read_csv('training.csv',\";\")\n",
        "val=pd.read_csv('validation.csv',\";\")\n",
        "\n",
        "train.shape\n",
        "train.head()\n",
        "val.shape\n",
        "val.head()\n",
        "\n",
        "X_train = train.drop([\"classLabel\"], axis=1, inplace=False)\n",
        "y_train = train[\"classLabel\"]\n",
        "X_val= val.drop([\"classLabel\"], axis=1, inplace=False)\n",
        "y_val = val[\"classLabel\"]\n",
        "\n",
        "X_train.shape\n",
        "X_val.shape\n",
        "y_train.shape\n",
        "y_val.shape\n",
        "\n",
        "X_train = X_train.reindex(sorted(X_train.columns), axis=1) #sort the data alphabetically \n",
        "X_val = X_val.reindex(sorted(X_val.columns), axis=1)\n"
      ],
      "execution_count": 3,
      "outputs": []
    },
    {
      "cell_type": "code",
      "metadata": {
        "id": "W0uz0Ch8JN0f",
        "colab_type": "code",
        "colab": {}
      },
      "source": [
        "#%%clean the data\n",
        "y_train.isnull().sum()\n",
        "X_train.isnull().sum()\n",
        "y_val.isnull().sum()\n",
        "X_val.isnull().sum()\n",
        "\n",
        "num=X_train._get_numeric_data().columns #numeric data columns names\n",
        "cat=set(X_train.columns)-set(num) #categorical data columns names\n",
        "\n",
        "SIn=SimpleImputer(missing_values=np.nan, strategy='mean')#replace nan values with the colum mean\n",
        "SIn.fit(X_train[num])\n",
        "SIc=SimpleImputer(missing_values=np.nan, strategy='most_frequent')#replace nan values with the colum most_frequent\n",
        "SIc.fit(X_train[cat])\n",
        "\n",
        "\n",
        "X_train.at[:,num]=pd.DataFrame(SIn.transform(X_train[num]),columns=num) #transform\n",
        "X_val.at[:,num]=pd.DataFrame(SIn.transform(X_val[num]),columns=num) \n",
        "X_train.at[:,cat]=pd.DataFrame(SIc.transform(X_train[cat]),columns=cat) \n",
        "X_val.at[:,cat]=pd.DataFrame(SIc.transform(X_val[cat]),columns=cat) \n"
      ],
      "execution_count": 4,
      "outputs": []
    },
    {
      "cell_type": "code",
      "metadata": {
        "id": "o64hYruKJbeA",
        "colab_type": "code",
        "colab": {}
      },
      "source": [
        "#%%normalization\n",
        "X_train[num].agg(['max','min','std','mean']) \n",
        "X_val[num].agg(['max','min','std','mean']) \n",
        "\n",
        "\n",
        "SS=StandardScaler(copy=True, with_mean=True, with_std=True)\n",
        "SS.fit(X_train[num])\n",
        "X_train.at[:,num]=SS.transform(X_train[num])\n",
        "X_val.at[:,num]=SS.transform(X_val[num])"
      ],
      "execution_count": 5,
      "outputs": []
    },
    {
      "cell_type": "code",
      "metadata": {
        "id": "f8XX-9xGJ-Mc",
        "colab_type": "code",
        "colab": {}
      },
      "source": [
        "#%%categorical encoding\n",
        "X_train=pd.get_dummies(X_train)\n",
        "X_val=pd.get_dummies(X_val)\n",
        "missed_features=set(X_train.columns)-set(X_val.columns)\n",
        "\n",
        "for i in missed_features:\n",
        "    X_val[i]=0\n",
        "    \n",
        "y_train=[1 if 'yes' in i else 0 for i in y_train] #convert yes to 1 and no to 0\n",
        "y_val=[1 if 'yes' in i else 0 for i in y_val]\n",
        "\n",
        "num=X_train._get_numeric_data().columns\n",
        "cat=set(X_train.columns)-set(num)\n",
        "len(cat)\n",
        "len(num)\n",
        "X_train.shape\n",
        "X_val.shape\n",
        "X_train = X_train.reindex(sorted(X_train.columns), axis=1)#sort the data again \n",
        "X_val = X_val.reindex(sorted(X_val.columns), axis=1)\n"
      ],
      "execution_count": 6,
      "outputs": []
    },
    {
      "cell_type": "code",
      "metadata": {
        "id": "oD-rgbm1D_X8",
        "colab_type": "code",
        "colab": {}
      },
      "source": [
        "#%%feature selection\n",
        "k=45\n",
        "SP=SelectKBest(score_func=f_classif,k=k)\n",
        "SP.fit(X_train,y_train)\n",
        "f=SP. get_support () # get the remaining columns from feature selection\n",
        "columns=X_train.columns[f]\n",
        "len(columns)#k\n",
        "X_train=pd.DataFrame(SP.transform(X_train),columns=columns)\n",
        "X_val=pd.DataFrame(SP.transform(X_val),columns=columns)\n",
        "\n",
        "X_val.shape\n",
        "X_train.shape\n",
        "X_train = X_train.reindex(sorted(X_train.columns), axis=1)\n",
        "X_val = X_val.reindex(sorted(X_val.columns), axis=1)\n",
        "# X_train.describe()"
      ],
      "execution_count": 7,
      "outputs": []
    },
    {
      "cell_type": "code",
      "metadata": {
        "id": "H86dlnhFEBV_",
        "colab_type": "code",
        "colab": {
          "base_uri": "https://localhost:8080/",
          "height": 530
        },
        "outputId": "875ce8d0-8a3f-4199-d747-44c6786ed854"
      },
      "source": [
        "#%%model\n",
        "\n",
        "\n",
        "class myCallback(tf.keras.callbacks.Callback):\n",
        "    best_val_acc=0 #stores the best_val_acc reached while training\n",
        "    i=0 #counter to stop training if reaches to 50 without any improvement\n",
        "    \n",
        "    def on_epoch_end(self, epoch, logs={}):\n",
        "        if(logs.get('val_accuracy')>self.best_val_acc):#save the model if the val_acc increased\n",
        "          self.best_val_acc=logs.get('val_accuracy')\n",
        "          self.model.save('cp.ckpt')\n",
        "          print(f\"model_saved at epoch:{epoch} with accuracy:{self.best_val_acc}\")\n",
        "          \n",
        "          self.i=0 #restart the counter\n",
        "          \n",
        "        elif self.i<50: \n",
        "          \n",
        "          self.i=self.i+1\n",
        "        else:\n",
        "          \n",
        "          self.model.stop_training = True #stop training if i>=50\n",
        "        \n",
        "callbacks = myCallback()\n",
        "\n",
        "\n",
        "\n",
        "\n",
        "input_layer= Input(shape=(X_train.shape[1]))\n",
        "x=Dense(256,'tanh')(input_layer)\n",
        "x=Dropout(0.9)(x)\n",
        "x=Dense(128,'tanh')(x)\n",
        "x=Dropout(0.8)(x)\n",
        "x=Dense(64,'tanh')(x)\n",
        "x=Dropout(0.7)(x)\n",
        "x=Dense(32,'tanh')(x)\n",
        "x=Dropout(0.6)(x)\n",
        "x=Dense(16,'tanh')(x)\n",
        "x=Dropout(0.5)(x)\n",
        "x=Dense(8,'tanh')(x)\n",
        "x=Dropout(0.4)(x)\n",
        "x=Dense(4,'tanh')(x)\n",
        "x=Dropout(0.3)(x)\n",
        "x=Dense(1,'sigmoid')(x)\n",
        "\n",
        "\n",
        "model = Model(inputs=input_layer, outputs=x)\n",
        "model.compile(optimizer ='adam',\n",
        "  loss='binary_crossentropy',\n",
        "  metrics=['accuracy'])\n",
        "\n",
        "# model.summary()\n",
        "\n",
        "\n",
        "print('start')\n",
        "model.fit(np.array(X_train), np.array(y_train), epochs=1000,\n",
        "          validation_data=(np.array(X_val), np.array(y_val)),\n",
        "          callbacks=[callbacks],verbose=0)\n",
        "\n",
        "\n",
        "model=load_model('cp.ckpt')\n",
        "print(model.evaluate(np.array(X_train), np.array(y_train)))#acc=91.7%\n",
        "print(model.evaluate(np.array(X_val), np.array(y_val)))#acc=86%"
      ],
      "execution_count": 8,
      "outputs": [
        {
          "output_type": "stream",
          "text": [
            "start\n",
            "WARNING:tensorflow:From /usr/local/lib/python3.6/dist-packages/tensorflow/python/training/tracking/tracking.py:111: Model.state_updates (from tensorflow.python.keras.engine.training) is deprecated and will be removed in a future version.\n",
            "Instructions for updating:\n",
            "This property should not be used in TensorFlow 2.0, as updates are applied automatically.\n",
            "WARNING:tensorflow:From /usr/local/lib/python3.6/dist-packages/tensorflow/python/training/tracking/tracking.py:111: Layer.updates (from tensorflow.python.keras.engine.base_layer) is deprecated and will be removed in a future version.\n",
            "Instructions for updating:\n",
            "This property should not be used in TensorFlow 2.0, as updates are applied automatically.\n",
            "INFO:tensorflow:Assets written to: cp.ckpt/assets\n",
            "model_saved at epoch:0 with accuracy:0.4650000035762787\n",
            "INFO:tensorflow:Assets written to: cp.ckpt/assets\n",
            "model_saved at epoch:20 with accuracy:0.4699999988079071\n",
            "INFO:tensorflow:Assets written to: cp.ckpt/assets\n",
            "model_saved at epoch:21 with accuracy:0.5049999952316284\n",
            "INFO:tensorflow:Assets written to: cp.ckpt/assets\n",
            "model_saved at epoch:22 with accuracy:0.6850000023841858\n",
            "INFO:tensorflow:Assets written to: cp.ckpt/assets\n",
            "model_saved at epoch:23 with accuracy:0.699999988079071\n",
            "INFO:tensorflow:Assets written to: cp.ckpt/assets\n",
            "model_saved at epoch:24 with accuracy:0.7900000214576721\n",
            "INFO:tensorflow:Assets written to: cp.ckpt/assets\n",
            "model_saved at epoch:25 with accuracy:0.8100000023841858\n",
            "INFO:tensorflow:Assets written to: cp.ckpt/assets\n",
            "model_saved at epoch:27 with accuracy:0.824999988079071\n",
            "INFO:tensorflow:Assets written to: cp.ckpt/assets\n",
            "model_saved at epoch:28 with accuracy:0.8600000143051147\n",
            "116/116 [==============================] - 0s 3ms/step - loss: 0.1862 - accuracy: 0.9086\n",
            "[0.18621954321861267, 0.908648669719696]\n",
            "7/7 [==============================] - 0s 3ms/step - loss: 0.6081 - accuracy: 0.8600\n",
            "[0.6081045269966125, 0.8600000143051147]\n"
          ],
          "name": "stdout"
        }
      ]
    }
  ]
}